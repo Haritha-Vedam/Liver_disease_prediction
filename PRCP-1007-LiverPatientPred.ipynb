{
 "cells": [
  {
   "cell_type": "code",
   "execution_count": 1,
   "id": "80fe3842",
   "metadata": {},
   "outputs": [],
   "source": [
    "import pandas as pd\n",
    "import numpy as np\n",
    "import matplotlib.pyplot as plt\n",
    "import warnings\n",
    "warnings.filterwarnings('ignore')"
   ]
  },
  {
   "cell_type": "markdown",
   "id": "8f055674",
   "metadata": {},
   "source": [
    "## Liver Disease Prediction\n",
    "- Liver diseases can be many like hepatitis, jaundice, liver cirrhosis, or even liver cancer(as it is commonly called but technically called Hepatocellular carcinoma)\n",
    "- Most of the liver malfunctions, listed above are based on deviations of protein levels, bilirubin levels, protein and hormones that are tested in urine and blood. \n",
    "- Liver being very important organ, affects the performance of the gut and results in affecting the whole body.\n",
    "- Given is the data of various patients and thir final status of liver disease\n",
    "- It is seemingly observed that there might be connect between different aspects of data of patient and the result of his diagnosis.\n",
    "- We are trying to develop a model that will be able to judge the result of diagnosis based on the parameters "
   ]
  },
  {
   "cell_type": "code",
   "execution_count": 2,
   "id": "8a109b45",
   "metadata": {},
   "outputs": [],
   "source": [
    "#Columns are Age of the patient,Gender of the patient,Total Bilirubin,Direct Bilirubin,Alkaline Phosphotase,\n",
    "#Alamine Aminotransferase,Aspartate Aminotransferase,Total Protiens,AlbuminAlbumin and Globulin Ratio\n",
    "#Last column is target variable, the result with 1 as patient with disease and 2 as patient without disease\n",
    "data = pd.read_csv(\"Indian Liver Patient Dataset (ILPD).csv\",index_col=False, names=['Age','Gender','Total_bil','Direct_bil','ALP','ALT','AST','Ttl_Prtn','Albumin','Globulin','Result'])"
   ]
  },
  {
   "cell_type": "code",
   "execution_count": 3,
   "id": "69a7b7a1",
   "metadata": {},
   "outputs": [
    {
     "data": {
      "text/html": [
       "<div>\n",
       "<style scoped>\n",
       "    .dataframe tbody tr th:only-of-type {\n",
       "        vertical-align: middle;\n",
       "    }\n",
       "\n",
       "    .dataframe tbody tr th {\n",
       "        vertical-align: top;\n",
       "    }\n",
       "\n",
       "    .dataframe thead th {\n",
       "        text-align: right;\n",
       "    }\n",
       "</style>\n",
       "<table border=\"1\" class=\"dataframe\">\n",
       "  <thead>\n",
       "    <tr style=\"text-align: right;\">\n",
       "      <th></th>\n",
       "      <th>Age</th>\n",
       "      <th>Gender</th>\n",
       "      <th>Total_bil</th>\n",
       "      <th>Direct_bil</th>\n",
       "      <th>ALP</th>\n",
       "      <th>ALT</th>\n",
       "      <th>AST</th>\n",
       "      <th>Ttl_Prtn</th>\n",
       "      <th>Albumin</th>\n",
       "      <th>Globulin</th>\n",
       "      <th>Result</th>\n",
       "    </tr>\n",
       "  </thead>\n",
       "  <tbody>\n",
       "    <tr>\n",
       "      <th>0</th>\n",
       "      <td>65</td>\n",
       "      <td>Female</td>\n",
       "      <td>0.7</td>\n",
       "      <td>0.1</td>\n",
       "      <td>187</td>\n",
       "      <td>16</td>\n",
       "      <td>18</td>\n",
       "      <td>6.8</td>\n",
       "      <td>3.3</td>\n",
       "      <td>0.90</td>\n",
       "      <td>1</td>\n",
       "    </tr>\n",
       "    <tr>\n",
       "      <th>1</th>\n",
       "      <td>62</td>\n",
       "      <td>Male</td>\n",
       "      <td>10.9</td>\n",
       "      <td>5.5</td>\n",
       "      <td>699</td>\n",
       "      <td>64</td>\n",
       "      <td>100</td>\n",
       "      <td>7.5</td>\n",
       "      <td>3.2</td>\n",
       "      <td>0.74</td>\n",
       "      <td>1</td>\n",
       "    </tr>\n",
       "    <tr>\n",
       "      <th>2</th>\n",
       "      <td>62</td>\n",
       "      <td>Male</td>\n",
       "      <td>7.3</td>\n",
       "      <td>4.1</td>\n",
       "      <td>490</td>\n",
       "      <td>60</td>\n",
       "      <td>68</td>\n",
       "      <td>7.0</td>\n",
       "      <td>3.3</td>\n",
       "      <td>0.89</td>\n",
       "      <td>1</td>\n",
       "    </tr>\n",
       "    <tr>\n",
       "      <th>3</th>\n",
       "      <td>58</td>\n",
       "      <td>Male</td>\n",
       "      <td>1.0</td>\n",
       "      <td>0.4</td>\n",
       "      <td>182</td>\n",
       "      <td>14</td>\n",
       "      <td>20</td>\n",
       "      <td>6.8</td>\n",
       "      <td>3.4</td>\n",
       "      <td>1.00</td>\n",
       "      <td>1</td>\n",
       "    </tr>\n",
       "    <tr>\n",
       "      <th>4</th>\n",
       "      <td>72</td>\n",
       "      <td>Male</td>\n",
       "      <td>3.9</td>\n",
       "      <td>2.0</td>\n",
       "      <td>195</td>\n",
       "      <td>27</td>\n",
       "      <td>59</td>\n",
       "      <td>7.3</td>\n",
       "      <td>2.4</td>\n",
       "      <td>0.40</td>\n",
       "      <td>1</td>\n",
       "    </tr>\n",
       "    <tr>\n",
       "      <th>...</th>\n",
       "      <td>...</td>\n",
       "      <td>...</td>\n",
       "      <td>...</td>\n",
       "      <td>...</td>\n",
       "      <td>...</td>\n",
       "      <td>...</td>\n",
       "      <td>...</td>\n",
       "      <td>...</td>\n",
       "      <td>...</td>\n",
       "      <td>...</td>\n",
       "      <td>...</td>\n",
       "    </tr>\n",
       "    <tr>\n",
       "      <th>578</th>\n",
       "      <td>60</td>\n",
       "      <td>Male</td>\n",
       "      <td>0.5</td>\n",
       "      <td>0.1</td>\n",
       "      <td>500</td>\n",
       "      <td>20</td>\n",
       "      <td>34</td>\n",
       "      <td>5.9</td>\n",
       "      <td>1.6</td>\n",
       "      <td>0.37</td>\n",
       "      <td>2</td>\n",
       "    </tr>\n",
       "    <tr>\n",
       "      <th>579</th>\n",
       "      <td>40</td>\n",
       "      <td>Male</td>\n",
       "      <td>0.6</td>\n",
       "      <td>0.1</td>\n",
       "      <td>98</td>\n",
       "      <td>35</td>\n",
       "      <td>31</td>\n",
       "      <td>6.0</td>\n",
       "      <td>3.2</td>\n",
       "      <td>1.10</td>\n",
       "      <td>1</td>\n",
       "    </tr>\n",
       "    <tr>\n",
       "      <th>580</th>\n",
       "      <td>52</td>\n",
       "      <td>Male</td>\n",
       "      <td>0.8</td>\n",
       "      <td>0.2</td>\n",
       "      <td>245</td>\n",
       "      <td>48</td>\n",
       "      <td>49</td>\n",
       "      <td>6.4</td>\n",
       "      <td>3.2</td>\n",
       "      <td>1.00</td>\n",
       "      <td>1</td>\n",
       "    </tr>\n",
       "    <tr>\n",
       "      <th>581</th>\n",
       "      <td>31</td>\n",
       "      <td>Male</td>\n",
       "      <td>1.3</td>\n",
       "      <td>0.5</td>\n",
       "      <td>184</td>\n",
       "      <td>29</td>\n",
       "      <td>32</td>\n",
       "      <td>6.8</td>\n",
       "      <td>3.4</td>\n",
       "      <td>1.00</td>\n",
       "      <td>1</td>\n",
       "    </tr>\n",
       "    <tr>\n",
       "      <th>582</th>\n",
       "      <td>38</td>\n",
       "      <td>Male</td>\n",
       "      <td>1.0</td>\n",
       "      <td>0.3</td>\n",
       "      <td>216</td>\n",
       "      <td>21</td>\n",
       "      <td>24</td>\n",
       "      <td>7.3</td>\n",
       "      <td>4.4</td>\n",
       "      <td>1.50</td>\n",
       "      <td>2</td>\n",
       "    </tr>\n",
       "  </tbody>\n",
       "</table>\n",
       "<p>583 rows × 11 columns</p>\n",
       "</div>"
      ],
      "text/plain": [
       "     Age  Gender  Total_bil  Direct_bil  ALP  ALT  AST  Ttl_Prtn  Albumin  \\\n",
       "0     65  Female        0.7         0.1  187   16   18       6.8      3.3   \n",
       "1     62    Male       10.9         5.5  699   64  100       7.5      3.2   \n",
       "2     62    Male        7.3         4.1  490   60   68       7.0      3.3   \n",
       "3     58    Male        1.0         0.4  182   14   20       6.8      3.4   \n",
       "4     72    Male        3.9         2.0  195   27   59       7.3      2.4   \n",
       "..   ...     ...        ...         ...  ...  ...  ...       ...      ...   \n",
       "578   60    Male        0.5         0.1  500   20   34       5.9      1.6   \n",
       "579   40    Male        0.6         0.1   98   35   31       6.0      3.2   \n",
       "580   52    Male        0.8         0.2  245   48   49       6.4      3.2   \n",
       "581   31    Male        1.3         0.5  184   29   32       6.8      3.4   \n",
       "582   38    Male        1.0         0.3  216   21   24       7.3      4.4   \n",
       "\n",
       "     Globulin  Result  \n",
       "0        0.90       1  \n",
       "1        0.74       1  \n",
       "2        0.89       1  \n",
       "3        1.00       1  \n",
       "4        0.40       1  \n",
       "..        ...     ...  \n",
       "578      0.37       2  \n",
       "579      1.10       1  \n",
       "580      1.00       1  \n",
       "581      1.00       1  \n",
       "582      1.50       2  \n",
       "\n",
       "[583 rows x 11 columns]"
      ]
     },
     "execution_count": 3,
     "metadata": {},
     "output_type": "execute_result"
    }
   ],
   "source": [
    "data"
   ]
  },
  {
   "cell_type": "markdown",
   "id": "0a63eb3c",
   "metadata": {},
   "source": [
    "## Basic Checks"
   ]
  },
  {
   "cell_type": "code",
   "execution_count": 4,
   "id": "53fa3796",
   "metadata": {},
   "outputs": [
    {
     "data": {
      "text/plain": [
       "1    416\n",
       "2    167\n",
       "Name: Result, dtype: int64"
      ]
     },
     "execution_count": 4,
     "metadata": {},
     "output_type": "execute_result"
    }
   ],
   "source": [
    "data.Result.value_counts() # Checking the counts of each class."
   ]
  },
  {
   "cell_type": "code",
   "execution_count": 5,
   "id": "09f3c299",
   "metadata": {},
   "outputs": [
    {
     "data": {
      "text/plain": [
       "583"
      ]
     },
     "execution_count": 5,
     "metadata": {},
     "output_type": "execute_result"
    }
   ],
   "source": [
    "len(data.Result) \n",
    "#It shows that the data is divided between the classes in 71-29 % which is not very imbalanced. \n",
    "#We'll proceed with normal balancing and try re-sampling if needed"
   ]
  },
  {
   "cell_type": "code",
   "execution_count": 6,
   "id": "f4d29947",
   "metadata": {},
   "outputs": [
    {
     "name": "stdout",
     "output_type": "stream",
     "text": [
      "<class 'pandas.core.frame.DataFrame'>\n",
      "RangeIndex: 583 entries, 0 to 582\n",
      "Data columns (total 11 columns):\n",
      " #   Column      Non-Null Count  Dtype  \n",
      "---  ------      --------------  -----  \n",
      " 0   Age         583 non-null    int64  \n",
      " 1   Gender      583 non-null    object \n",
      " 2   Total_bil   583 non-null    float64\n",
      " 3   Direct_bil  583 non-null    float64\n",
      " 4   ALP         583 non-null    int64  \n",
      " 5   ALT         583 non-null    int64  \n",
      " 6   AST         583 non-null    int64  \n",
      " 7   Ttl_Prtn    583 non-null    float64\n",
      " 8   Albumin     583 non-null    float64\n",
      " 9   Globulin    579 non-null    float64\n",
      " 10  Result      583 non-null    int64  \n",
      "dtypes: float64(5), int64(5), object(1)\n",
      "memory usage: 50.2+ KB\n"
     ]
    }
   ],
   "source": [
    "data.info()"
   ]
  },
  {
   "cell_type": "code",
   "execution_count": 7,
   "id": "14c72508",
   "metadata": {},
   "outputs": [
    {
     "data": {
      "text/html": [
       "<div>\n",
       "<style scoped>\n",
       "    .dataframe tbody tr th:only-of-type {\n",
       "        vertical-align: middle;\n",
       "    }\n",
       "\n",
       "    .dataframe tbody tr th {\n",
       "        vertical-align: top;\n",
       "    }\n",
       "\n",
       "    .dataframe thead th {\n",
       "        text-align: right;\n",
       "    }\n",
       "</style>\n",
       "<table border=\"1\" class=\"dataframe\">\n",
       "  <thead>\n",
       "    <tr style=\"text-align: right;\">\n",
       "      <th></th>\n",
       "      <th>Age</th>\n",
       "      <th>Total_bil</th>\n",
       "      <th>Direct_bil</th>\n",
       "      <th>ALP</th>\n",
       "      <th>ALT</th>\n",
       "      <th>AST</th>\n",
       "      <th>Ttl_Prtn</th>\n",
       "      <th>Albumin</th>\n",
       "      <th>Globulin</th>\n",
       "      <th>Result</th>\n",
       "    </tr>\n",
       "  </thead>\n",
       "  <tbody>\n",
       "    <tr>\n",
       "      <th>count</th>\n",
       "      <td>583.000000</td>\n",
       "      <td>583.000000</td>\n",
       "      <td>583.000000</td>\n",
       "      <td>583.000000</td>\n",
       "      <td>583.000000</td>\n",
       "      <td>583.000000</td>\n",
       "      <td>583.000000</td>\n",
       "      <td>583.000000</td>\n",
       "      <td>579.000000</td>\n",
       "      <td>583.000000</td>\n",
       "    </tr>\n",
       "    <tr>\n",
       "      <th>mean</th>\n",
       "      <td>44.746141</td>\n",
       "      <td>3.298799</td>\n",
       "      <td>1.486106</td>\n",
       "      <td>290.576329</td>\n",
       "      <td>80.713551</td>\n",
       "      <td>109.910806</td>\n",
       "      <td>6.483190</td>\n",
       "      <td>3.141852</td>\n",
       "      <td>0.947064</td>\n",
       "      <td>1.286449</td>\n",
       "    </tr>\n",
       "    <tr>\n",
       "      <th>std</th>\n",
       "      <td>16.189833</td>\n",
       "      <td>6.209522</td>\n",
       "      <td>2.808498</td>\n",
       "      <td>242.937989</td>\n",
       "      <td>182.620356</td>\n",
       "      <td>288.918529</td>\n",
       "      <td>1.085451</td>\n",
       "      <td>0.795519</td>\n",
       "      <td>0.319592</td>\n",
       "      <td>0.452490</td>\n",
       "    </tr>\n",
       "    <tr>\n",
       "      <th>min</th>\n",
       "      <td>4.000000</td>\n",
       "      <td>0.400000</td>\n",
       "      <td>0.100000</td>\n",
       "      <td>63.000000</td>\n",
       "      <td>10.000000</td>\n",
       "      <td>10.000000</td>\n",
       "      <td>2.700000</td>\n",
       "      <td>0.900000</td>\n",
       "      <td>0.300000</td>\n",
       "      <td>1.000000</td>\n",
       "    </tr>\n",
       "    <tr>\n",
       "      <th>25%</th>\n",
       "      <td>33.000000</td>\n",
       "      <td>0.800000</td>\n",
       "      <td>0.200000</td>\n",
       "      <td>175.500000</td>\n",
       "      <td>23.000000</td>\n",
       "      <td>25.000000</td>\n",
       "      <td>5.800000</td>\n",
       "      <td>2.600000</td>\n",
       "      <td>0.700000</td>\n",
       "      <td>1.000000</td>\n",
       "    </tr>\n",
       "    <tr>\n",
       "      <th>50%</th>\n",
       "      <td>45.000000</td>\n",
       "      <td>1.000000</td>\n",
       "      <td>0.300000</td>\n",
       "      <td>208.000000</td>\n",
       "      <td>35.000000</td>\n",
       "      <td>42.000000</td>\n",
       "      <td>6.600000</td>\n",
       "      <td>3.100000</td>\n",
       "      <td>0.930000</td>\n",
       "      <td>1.000000</td>\n",
       "    </tr>\n",
       "    <tr>\n",
       "      <th>75%</th>\n",
       "      <td>58.000000</td>\n",
       "      <td>2.600000</td>\n",
       "      <td>1.300000</td>\n",
       "      <td>298.000000</td>\n",
       "      <td>60.500000</td>\n",
       "      <td>87.000000</td>\n",
       "      <td>7.200000</td>\n",
       "      <td>3.800000</td>\n",
       "      <td>1.100000</td>\n",
       "      <td>2.000000</td>\n",
       "    </tr>\n",
       "    <tr>\n",
       "      <th>max</th>\n",
       "      <td>90.000000</td>\n",
       "      <td>75.000000</td>\n",
       "      <td>19.700000</td>\n",
       "      <td>2110.000000</td>\n",
       "      <td>2000.000000</td>\n",
       "      <td>4929.000000</td>\n",
       "      <td>9.600000</td>\n",
       "      <td>5.500000</td>\n",
       "      <td>2.800000</td>\n",
       "      <td>2.000000</td>\n",
       "    </tr>\n",
       "  </tbody>\n",
       "</table>\n",
       "</div>"
      ],
      "text/plain": [
       "              Age   Total_bil  Direct_bil          ALP          ALT  \\\n",
       "count  583.000000  583.000000  583.000000   583.000000   583.000000   \n",
       "mean    44.746141    3.298799    1.486106   290.576329    80.713551   \n",
       "std     16.189833    6.209522    2.808498   242.937989   182.620356   \n",
       "min      4.000000    0.400000    0.100000    63.000000    10.000000   \n",
       "25%     33.000000    0.800000    0.200000   175.500000    23.000000   \n",
       "50%     45.000000    1.000000    0.300000   208.000000    35.000000   \n",
       "75%     58.000000    2.600000    1.300000   298.000000    60.500000   \n",
       "max     90.000000   75.000000   19.700000  2110.000000  2000.000000   \n",
       "\n",
       "               AST    Ttl_Prtn     Albumin    Globulin      Result  \n",
       "count   583.000000  583.000000  583.000000  579.000000  583.000000  \n",
       "mean    109.910806    6.483190    3.141852    0.947064    1.286449  \n",
       "std     288.918529    1.085451    0.795519    0.319592    0.452490  \n",
       "min      10.000000    2.700000    0.900000    0.300000    1.000000  \n",
       "25%      25.000000    5.800000    2.600000    0.700000    1.000000  \n",
       "50%      42.000000    6.600000    3.100000    0.930000    1.000000  \n",
       "75%      87.000000    7.200000    3.800000    1.100000    2.000000  \n",
       "max    4929.000000    9.600000    5.500000    2.800000    2.000000  "
      ]
     },
     "execution_count": 7,
     "metadata": {},
     "output_type": "execute_result"
    }
   ],
   "source": [
    "data.describe()\n",
    "#The max values of most parameters are severly away from 75% percentile values, which means, there are huge outliers. \n",
    "#A study in google too confirms their status as outliers"
   ]
  },
  {
   "cell_type": "code",
   "execution_count": 8,
   "id": "f2f9aee0",
   "metadata": {},
   "outputs": [
    {
     "data": {
      "text/plain": [
       "Age           0\n",
       "Gender        0\n",
       "Total_bil     0\n",
       "Direct_bil    0\n",
       "ALP           0\n",
       "ALT           0\n",
       "AST           0\n",
       "Ttl_Prtn      0\n",
       "Albumin       0\n",
       "Globulin      4\n",
       "Result        0\n",
       "dtype: int64"
      ]
     },
     "execution_count": 8,
     "metadata": {},
     "output_type": "execute_result"
    }
   ],
   "source": [
    "data.isnull().sum()"
   ]
  },
  {
   "cell_type": "code",
   "execution_count": 9,
   "id": "d007c0f6",
   "metadata": {},
   "outputs": [
    {
     "data": {
      "text/plain": [
       "Male      441\n",
       "Female    142\n",
       "Name: Gender, dtype: int64"
      ]
     },
     "execution_count": 9,
     "metadata": {},
     "output_type": "execute_result"
    }
   ],
   "source": [
    "data.Gender.value_counts()"
   ]
  },
  {
   "cell_type": "markdown",
   "id": "63496fbb",
   "metadata": {},
   "source": [
    "## Data Cleaning and Preprocessing, with EDA\n",
    "\n",
    "### Data Cleaning"
   ]
  },
  {
   "cell_type": "code",
   "execution_count": 10,
   "id": "ae9e3078",
   "metadata": {},
   "outputs": [
    {
     "data": {
      "text/html": [
       "<div>\n",
       "<style scoped>\n",
       "    .dataframe tbody tr th:only-of-type {\n",
       "        vertical-align: middle;\n",
       "    }\n",
       "\n",
       "    .dataframe tbody tr th {\n",
       "        vertical-align: top;\n",
       "    }\n",
       "\n",
       "    .dataframe thead th {\n",
       "        text-align: right;\n",
       "    }\n",
       "</style>\n",
       "<table border=\"1\" class=\"dataframe\">\n",
       "  <thead>\n",
       "    <tr style=\"text-align: right;\">\n",
       "      <th></th>\n",
       "      <th>Age</th>\n",
       "      <th>Gender</th>\n",
       "      <th>Total_bil</th>\n",
       "      <th>Direct_bil</th>\n",
       "      <th>ALP</th>\n",
       "      <th>ALT</th>\n",
       "      <th>AST</th>\n",
       "      <th>Ttl_Prtn</th>\n",
       "      <th>Albumin</th>\n",
       "      <th>Globulin</th>\n",
       "      <th>Result</th>\n",
       "    </tr>\n",
       "  </thead>\n",
       "  <tbody>\n",
       "    <tr>\n",
       "      <th>209</th>\n",
       "      <td>45</td>\n",
       "      <td>Female</td>\n",
       "      <td>0.9</td>\n",
       "      <td>0.3</td>\n",
       "      <td>189</td>\n",
       "      <td>23</td>\n",
       "      <td>33</td>\n",
       "      <td>6.6</td>\n",
       "      <td>3.9</td>\n",
       "      <td>NaN</td>\n",
       "      <td>1</td>\n",
       "    </tr>\n",
       "    <tr>\n",
       "      <th>241</th>\n",
       "      <td>51</td>\n",
       "      <td>Male</td>\n",
       "      <td>0.8</td>\n",
       "      <td>0.2</td>\n",
       "      <td>230</td>\n",
       "      <td>24</td>\n",
       "      <td>46</td>\n",
       "      <td>6.5</td>\n",
       "      <td>3.1</td>\n",
       "      <td>NaN</td>\n",
       "      <td>1</td>\n",
       "    </tr>\n",
       "    <tr>\n",
       "      <th>253</th>\n",
       "      <td>35</td>\n",
       "      <td>Female</td>\n",
       "      <td>0.6</td>\n",
       "      <td>0.2</td>\n",
       "      <td>180</td>\n",
       "      <td>12</td>\n",
       "      <td>15</td>\n",
       "      <td>5.2</td>\n",
       "      <td>2.7</td>\n",
       "      <td>NaN</td>\n",
       "      <td>2</td>\n",
       "    </tr>\n",
       "    <tr>\n",
       "      <th>312</th>\n",
       "      <td>27</td>\n",
       "      <td>Male</td>\n",
       "      <td>1.3</td>\n",
       "      <td>0.6</td>\n",
       "      <td>106</td>\n",
       "      <td>25</td>\n",
       "      <td>54</td>\n",
       "      <td>8.5</td>\n",
       "      <td>4.8</td>\n",
       "      <td>NaN</td>\n",
       "      <td>2</td>\n",
       "    </tr>\n",
       "  </tbody>\n",
       "</table>\n",
       "</div>"
      ],
      "text/plain": [
       "     Age  Gender  Total_bil  Direct_bil  ALP  ALT  AST  Ttl_Prtn  Albumin  \\\n",
       "209   45  Female        0.9         0.3  189   23   33       6.6      3.9   \n",
       "241   51    Male        0.8         0.2  230   24   46       6.5      3.1   \n",
       "253   35  Female        0.6         0.2  180   12   15       5.2      2.7   \n",
       "312   27    Male        1.3         0.6  106   25   54       8.5      4.8   \n",
       "\n",
       "     Globulin  Result  \n",
       "209       NaN       1  \n",
       "241       NaN       1  \n",
       "253       NaN       2  \n",
       "312       NaN       2  "
      ]
     },
     "execution_count": 10,
     "metadata": {},
     "output_type": "execute_result"
    }
   ],
   "source": [
    "data.loc[data.Globulin.isnull()]"
   ]
  },
  {
   "cell_type": "code",
   "execution_count": 11,
   "id": "f7d09a73",
   "metadata": {},
   "outputs": [
    {
     "data": {
      "text/plain": [
       "(array([ 58., 101., 245.,  92.,  60.,  14.,   6.,   0.,   2.,   1.]),\n",
       " array([0.3 , 0.55, 0.8 , 1.05, 1.3 , 1.55, 1.8 , 2.05, 2.3 , 2.55, 2.8 ]),\n",
       " <BarContainer object of 10 artists>)"
      ]
     },
     "execution_count": 11,
     "metadata": {},
     "output_type": "execute_result"
    },
    {
     "data": {
      "image/png": "[encoded data removed]",
      "text/plain": [
       "<Figure size 640x480 with 1 Axes>"
      ]
     },
     "metadata": {},
     "output_type": "display_data"
    }
   ],
   "source": [
    "#There are four rows with null values of globulin. Let us observe its distribution and then choose to replace it with mean or median\n",
    "plt.hist(data.Globulin)"
   ]
  },
  {
   "cell_type": "code",
   "execution_count": 12,
   "id": "61d62b76",
   "metadata": {},
   "outputs": [
    {
     "data": {
      "text/plain": [
       "<AxesSubplot:xlabel='Globulin', ylabel='Density'>"
      ]
     },
     "execution_count": 12,
     "metadata": {},
     "output_type": "execute_result"
    },
    {
     "data": {
      "image/png": "[encoded data removed]",
      "text/plain": [
       "<Figure size 640x480 with 1 Axes>"
      ]
     },
     "metadata": {},
     "output_type": "display_data"
    }
   ],
   "source": [
    "import seaborn as sns\n",
    "sns.distplot(data.Globulin)"
   ]
  },
  {
   "cell_type": "code",
   "execution_count": 13,
   "id": "7b068ad0",
   "metadata": {},
   "outputs": [
    {
     "data": {
      "text/plain": [
       "<AxesSubplot:xlabel='Globulin'>"
      ]
     },
     "execution_count": 13,
     "metadata": {},
     "output_type": "execute_result"
    },
    {
     "data": {
      "image/png": "[encoded data removed]",
      "text/plain": [
       "<Figure size 640x480 with 1 Axes>"
      ]
     },
     "metadata": {},
     "output_type": "display_data"
    }
   ],
   "source": [
    "sns.boxplot(data.Globulin)"
   ]
  },
  {
   "cell_type": "markdown",
   "id": "29d913d5",
   "metadata": {},
   "source": [
    "- From the box plot, hist plot and dist plot, it is evident that Globulin values have a normal distribution with no significant skew, hence the null values can be replaced with the mean."
   ]
  },
  {
   "cell_type": "code",
   "execution_count": 14,
   "id": "aa6150ee",
   "metadata": {},
   "outputs": [],
   "source": [
    "data.loc[data.Globulin.isnull(),'Globulin'] = np.mean(data.Globulin)"
   ]
  },
  {
   "cell_type": "code",
   "execution_count": 15,
   "id": "d3d866dd",
   "metadata": {},
   "outputs": [
    {
     "data": {
      "text/html": [
       "<div>\n",
       "<style scoped>\n",
       "    .dataframe tbody tr th:only-of-type {\n",
       "        vertical-align: middle;\n",
       "    }\n",
       "\n",
       "    .dataframe tbody tr th {\n",
       "        vertical-align: top;\n",
       "    }\n",
       "\n",
       "    .dataframe thead th {\n",
       "        text-align: right;\n",
       "    }\n",
       "</style>\n",
       "<table border=\"1\" class=\"dataframe\">\n",
       "  <thead>\n",
       "    <tr style=\"text-align: right;\">\n",
       "      <th></th>\n",
       "      <th>Age</th>\n",
       "      <th>Gender</th>\n",
       "      <th>Total_bil</th>\n",
       "      <th>Direct_bil</th>\n",
       "      <th>ALP</th>\n",
       "      <th>ALT</th>\n",
       "      <th>AST</th>\n",
       "      <th>Ttl_Prtn</th>\n",
       "      <th>Albumin</th>\n",
       "      <th>Globulin</th>\n",
       "      <th>Result</th>\n",
       "    </tr>\n",
       "  </thead>\n",
       "  <tbody>\n",
       "  </tbody>\n",
       "</table>\n",
       "</div>"
      ],
      "text/plain": [
       "Empty DataFrame\n",
       "Columns: [Age, Gender, Total_bil, Direct_bil, ALP, ALT, AST, Ttl_Prtn, Albumin, Globulin, Result]\n",
       "Index: []"
      ]
     },
     "execution_count": 15,
     "metadata": {},
     "output_type": "execute_result"
    }
   ],
   "source": [
    "data.loc[data.Globulin.isnull()] #Rechecking if any null values exist."
   ]
  },
  {
   "cell_type": "markdown",
   "id": "2a81dba4",
   "metadata": {},
   "source": [
    "### EDA - Univariate and Bivariate analysis\n",
    "- This data will require univariate analysis as there are outliers.\n",
    "- They must be fixed first as a part of cleaning too. \n",
    "- Bivariate analysis can be made with hue as the categorical variables, to understand their categorical spread."
   ]
  },
  {
   "cell_type": "code",
   "execution_count": 16,
   "id": "72c47913",
   "metadata": {},
   "outputs": [],
   "source": [
    "count_col = ['Gender','Result']\n",
    "cont_col = ['Total_bil','Direct_bil','ALP','ALT','AST','Ttl_Prtn','Albumin','Globulin']"
   ]
  },
  {
   "cell_type": "code",
   "execution_count": 17,
   "id": "6eb5755e",
   "metadata": {},
   "outputs": [
    {
     "data": {
      "image/png": "[encoded data removed]",
      "text/plain": [
       "<Figure size 1000x500 with 2 Axes>"
      ]
     },
     "metadata": {},
     "output_type": "display_data"
    }
   ],
   "source": [
    "plt.figure(figsize=(10,5))\n",
    "plt_num = 1\n",
    "for i in count_col:\n",
    "    plt.subplot(1,2,plt_num)\n",
    "    sns.countplot(data[i])\n",
    "    plt.xlabel(i)\n",
    "    plt.ylabel('Counts')\n",
    "    plt_num += 1\n",
    "    plt.title('counts of categorical variable')\n",
    "plt.show()\n",
    "#The data consists more males than females and more affected ppl than the unaffected"
   ]
  },
  {
   "cell_type": "code",
   "execution_count": 18,
   "id": "f8907851",
   "metadata": {},
   "outputs": [
    {
     "data": {
      "text/plain": [
       "<AxesSubplot:xlabel='Result', ylabel='count'>"
      ]
     },
     "execution_count": 18,
     "metadata": {},
     "output_type": "execute_result"
    },
    {
     "data": {
      "image/png": "[encoded data removed]",
      "text/plain": [
       "<Figure size 640x480 with 1 Axes>"
      ]
     },
     "metadata": {},
     "output_type": "display_data"
    }
   ],
   "source": [
    "sns.countplot(data.Result, hue=data.Gender)\n",
    "#Most of the affected ones are males."
   ]
  },
  {
   "cell_type": "code",
   "execution_count": 19,
   "id": "05b7d196",
   "metadata": {},
   "outputs": [
    {
     "data": {
      "text/plain": [
       "<AxesSubplot:xlabel='Age', ylabel='Count'>"
      ]
     },
     "execution_count": 19,
     "metadata": {},
     "output_type": "execute_result"
    },
    {
     "data": {
      "image/png": "[encoded data removed]",
      "text/plain": [
       "<Figure size 640x480 with 1 Axes>"
      ]
     },
     "metadata": {},
     "output_type": "display_data"
    }
   ],
   "source": [
    "sns.histplot(data.Age)"
   ]
  },
  {
   "cell_type": "code",
   "execution_count": 20,
   "id": "199f92f2",
   "metadata": {},
   "outputs": [
    {
     "data": {
      "text/plain": [
       "44.74614065180103"
      ]
     },
     "execution_count": 20,
     "metadata": {},
     "output_type": "execute_result"
    }
   ],
   "source": [
    "np.mean(data.Age)\n",
    "#The age of patients is a normal distribution with average age of 45 years"
   ]
  },
  {
   "cell_type": "code",
   "execution_count": 21,
   "id": "8eeb59ad",
   "metadata": {},
   "outputs": [
    {
     "data": {
      "text/plain": [
       "<AxesSubplot:xlabel='Age', ylabel='Count'>"
      ]
     },
     "execution_count": 21,
     "metadata": {},
     "output_type": "execute_result"
    },
    {
     "data": {
      "image/png": "[encoded data removed]",
      "text/plain": [
       "<Figure size 640x480 with 1 Axes>"
      ]
     },
     "metadata": {},
     "output_type": "display_data"
    }
   ],
   "source": [
    "sns.histplot(data.loc[data.Result==1,'Age'])"
   ]
  },
  {
   "cell_type": "code",
   "execution_count": 22,
   "id": "a09d78cd",
   "metadata": {},
   "outputs": [
    {
     "data": {
      "text/plain": [
       "46.15384615384615"
      ]
     },
     "execution_count": 22,
     "metadata": {},
     "output_type": "execute_result"
    }
   ],
   "source": [
    "np.mean(data.loc[data.Result==1,'Age'])\n",
    "#The age of people diagnosed with liver cancer is also a normal distribution with an average age of 46 years"
   ]
  },
  {
   "cell_type": "code",
   "execution_count": 23,
   "id": "18cebec6",
   "metadata": {},
   "outputs": [
    {
     "data": {
      "text/plain": [
       "<AxesSubplot:xlabel='Age', ylabel='Count'>"
      ]
     },
     "execution_count": 23,
     "metadata": {},
     "output_type": "execute_result"
    },
    {
     "data": {
      "image/png": "[encoded data removed]",
      "text/plain": [
       "<Figure size 640x480 with 1 Axes>"
      ]
     },
     "metadata": {},
     "output_type": "display_data"
    }
   ],
   "source": [
    "sns.histplot(data.loc[data.Result==2,'Age'])"
   ]
  },
  {
   "cell_type": "code",
   "execution_count": 24,
   "id": "0dd0d369",
   "metadata": {},
   "outputs": [
    {
     "data": {
      "text/plain": [
       "41.23952095808383"
      ]
     },
     "execution_count": 24,
     "metadata": {},
     "output_type": "execute_result"
    }
   ],
   "source": [
    "np.mean(data.loc[data.Result==2,'Age'])\n",
    "#The age of people diagnosed no cancer is also a normal distribution with an average age of 41 years"
   ]
  },
  {
   "cell_type": "code",
   "execution_count": 25,
   "id": "dd51451a",
   "metadata": {},
   "outputs": [
    {
     "data": {
      "text/plain": [
       "<AxesSubplot:xlabel='Age', ylabel='Count'>"
      ]
     },
     "execution_count": 25,
     "metadata": {},
     "output_type": "execute_result"
    },
    {
     "data": {
      "image/png": "[encoded data removed]",
      "text/plain": [
       "<Figure size 640x480 with 1 Axes>"
      ]
     },
     "metadata": {},
     "output_type": "display_data"
    }
   ],
   "source": [
    "#Age study of males and females of diagnosed with and without cancer\n",
    "sns.histplot(data.loc[((data.Result==1)&(data.Gender=='Female')),'Age'])"
   ]
  },
  {
   "cell_type": "code",
   "execution_count": 26,
   "id": "2aadd4cb",
   "metadata": {},
   "outputs": [
    {
     "data": {
      "text/plain": [
       "43.34782608695652"
      ]
     },
     "execution_count": 26,
     "metadata": {},
     "output_type": "execute_result"
    }
   ],
   "source": [
    "np.mean(data.loc[((data.Result==1)&(data.Gender=='Female')),'Age'])"
   ]
  },
  {
   "cell_type": "code",
   "execution_count": 27,
   "id": "de02d3d8",
   "metadata": {},
   "outputs": [
    {
     "data": {
      "text/plain": [
       "<AxesSubplot:xlabel='Age', ylabel='Count'>"
      ]
     },
     "execution_count": 27,
     "metadata": {},
     "output_type": "execute_result"
    },
    {
     "data": {
      "image/png": "[encoded data removed]",
      "text/plain": [
       "<Figure size 640x480 with 1 Axes>"
      ]
     },
     "metadata": {},
     "output_type": "display_data"
    }
   ],
   "source": [
    "sns.histplot(data.loc[((data.Result==1)&(data.Gender=='Male')),'Age'])"
   ]
  },
  {
   "cell_type": "code",
   "execution_count": 28,
   "id": "46784e09",
   "metadata": {},
   "outputs": [
    {
     "data": {
      "text/plain": [
       "46.95061728395062"
      ]
     },
     "execution_count": 28,
     "metadata": {},
     "output_type": "execute_result"
    }
   ],
   "source": [
    "np.mean(data.loc[((data.Result==1)&(data.Gender=='Male')),'Age'])"
   ]
  },
  {
   "cell_type": "code",
   "execution_count": 29,
   "id": "5a303785",
   "metadata": {},
   "outputs": [
    {
     "data": {
      "text/plain": [
       "<AxesSubplot:xlabel='Age', ylabel='Count'>"
      ]
     },
     "execution_count": 29,
     "metadata": {},
     "output_type": "execute_result"
    },
    {
     "data": {
      "image/png": "[encoded data removed]",
      "text/plain": [
       "<Figure size 640x480 with 1 Axes>"
      ]
     },
     "metadata": {},
     "output_type": "display_data"
    }
   ],
   "source": [
    "sns.histplot(data.loc[((data.Result==2)&(data.Gender=='Female')),'Age'])"
   ]
  },
  {
   "cell_type": "code",
   "execution_count": 30,
   "id": "42d46508",
   "metadata": {},
   "outputs": [
    {
     "data": {
      "text/plain": [
       "42.74"
      ]
     },
     "execution_count": 30,
     "metadata": {},
     "output_type": "execute_result"
    }
   ],
   "source": [
    "np.mean(data.loc[((data.Result==2)&(data.Gender=='Female')),'Age'])"
   ]
  },
  {
   "cell_type": "code",
   "execution_count": 31,
   "id": "d0fdd4f0",
   "metadata": {},
   "outputs": [
    {
     "data": {
      "text/plain": [
       "<AxesSubplot:xlabel='Age', ylabel='Count'>"
      ]
     },
     "execution_count": 31,
     "metadata": {},
     "output_type": "execute_result"
    },
    {
     "data": {
      "image/png": "[encoded data removed]",
      "text/plain": [
       "<Figure size 640x480 with 1 Axes>"
      ]
     },
     "metadata": {},
     "output_type": "display_data"
    }
   ],
   "source": [
    "sns.histplot(data.loc[((data.Result==2)&(data.Gender=='Male')),'Age'])"
   ]
  },
  {
   "cell_type": "code",
   "execution_count": 32,
   "id": "deb0b9bb",
   "metadata": {},
   "outputs": [
    {
     "data": {
      "text/plain": [
       "40.598290598290596"
      ]
     },
     "execution_count": 32,
     "metadata": {},
     "output_type": "execute_result"
    }
   ],
   "source": [
    "np.mean(data.loc[((data.Result==2)&(data.Gender=='Male')),'Age'])"
   ]
  },
  {
   "cell_type": "markdown",
   "id": "6197f69a",
   "metadata": {},
   "source": [
    "- Average age of cancer diagnosed female is 43, while that of cancer diagnosed male is 47. \n",
    "- Average age of non cancer female is 43 while that of male is 41. \n",
    "- So in males, as age progresses, higher chance of liver cancer."
   ]
  },
  {
   "cell_type": "code",
   "execution_count": 33,
   "id": "359e9fca",
   "metadata": {},
   "outputs": [
    {
     "data": {
      "image/png": "[encoded data removed]",
      "text/plain": [
       "<Figure size 2000x2000 with 8 Axes>"
      ]
     },
     "metadata": {},
     "output_type": "display_data"
    }
   ],
   "source": [
    "plt.figure(figsize = (20,20))\n",
    "plt_num = 1\n",
    "for i in cont_col:\n",
    "    plt.subplot(3,3,plt_num)\n",
    "    sns.histplot(data[i])\n",
    "    plt.xlabel(i)\n",
    "    plt.ylabel('values')\n",
    "    plt_num+=1\n",
    "plt.show()\n",
    "#They seem to be normal or close to normal distributions with lot of outliers. \n",
    "#To filter outliers, we have to analyse their box plots."
   ]
  },
  {
   "cell_type": "code",
   "execution_count": 34,
   "id": "aae8bea8",
   "metadata": {},
   "outputs": [
    {
     "data": {
      "image/png": "[encoded data removed]",
      "text/plain": [
       "<Figure size 2000x8000 with 8 Axes>"
      ]
     },
     "metadata": {},
     "output_type": "display_data"
    }
   ],
   "source": [
    "plt.figure(figsize=(20,80))\n",
    "plt_num = 1\n",
    "for i in cont_col:\n",
    "    plt.subplot(4,2,plt_num)\n",
    "    sns.boxplot(data[i])\n",
    "    plt.title(i)\n",
    "    plt_num+=1\n",
    "plt.show()"
   ]
  },
  {
   "cell_type": "markdown",
   "id": "450abc04",
   "metadata": {},
   "source": [
    "- Total bilirubin : Normal range: 1.7-20.5. Liver infected people will have more of it upto >100. \n",
    "- Direct bilirubin value: Normal range: 0-5, but for infected patients it'll go till 20\n",
    "- Alkaline Phosphotase (ALP) is also possible to rise beyond 1000 in liver cancer patients\n",
    "- Alamine Aminotransferase (ALT) is also possible to rise beyond 250 in liver issue\n",
    "- Aspartate Aminotransferase(AST) is also possible to rise beyond 1000, though its range is 10-36.\n",
    "- Total proteins value can be from 6-8, but for liver infected, it'll be high\n",
    "- Globulin 1.1-2.5 is considered normal,but lesser values are found for liver patients.\n",
    "- In this regard, none of our outliers are considered outliers, as they are the values present in liver patients. \n",
    "- If we replace them with mean, we are replacing them with normal values, which entirely fails the purpose.\n",
    "- So none of the data are outliers"
   ]
  },
  {
   "cell_type": "markdown",
   "id": "3c527aec",
   "metadata": {},
   "source": [
    "## Conclusions from EDA:\n",
    "- The data consists more males than females and more affected ppl than the unaffected\n",
    "- Most of the affected ones are males.\n",
    "- The age of patients is a normal distribution with average age of 45 years\n",
    "- Average age of cancer diagnosed female is 43, while that of cancer diagnosed male is 47. \n",
    "- Average age of non cancer female is 43 while that of male is 41. \n",
    "- So in males, as age progresses, higher chance of liver cancer.\n",
    "- none of our outliers are considered outliers, as they are the values present in liver patients. \n",
    "- If we replace them with mean, we are replacing them with normal values, which entirely fails the purpose.\n",
    "\n",
    "### Feature Selection"
   ]
  },
  {
   "cell_type": "code",
   "execution_count": 35,
   "id": "d4966bbd",
   "metadata": {},
   "outputs": [
    {
     "data": {
      "text/html": [
       "<div>\n",
       "<style scoped>\n",
       "    .dataframe tbody tr th:only-of-type {\n",
       "        vertical-align: middle;\n",
       "    }\n",
       "\n",
       "    .dataframe tbody tr th {\n",
       "        vertical-align: top;\n",
       "    }\n",
       "\n",
       "    .dataframe thead th {\n",
       "        text-align: right;\n",
       "    }\n",
       "</style>\n",
       "<table border=\"1\" class=\"dataframe\">\n",
       "  <thead>\n",
       "    <tr style=\"text-align: right;\">\n",
       "      <th></th>\n",
       "      <th>Age</th>\n",
       "      <th>Total_bil</th>\n",
       "      <th>Direct_bil</th>\n",
       "      <th>ALP</th>\n",
       "      <th>ALT</th>\n",
       "      <th>AST</th>\n",
       "      <th>Ttl_Prtn</th>\n",
       "      <th>Albumin</th>\n",
       "      <th>Globulin</th>\n",
       "      <th>Result</th>\n",
       "    </tr>\n",
       "  </thead>\n",
       "  <tbody>\n",
       "    <tr>\n",
       "      <th>Age</th>\n",
       "      <td>1.000000</td>\n",
       "      <td>0.011763</td>\n",
       "      <td>0.007529</td>\n",
       "      <td>0.080425</td>\n",
       "      <td>-0.086883</td>\n",
       "      <td>-0.019910</td>\n",
       "      <td>-0.187461</td>\n",
       "      <td>-0.265924</td>\n",
       "      <td>-0.216089</td>\n",
       "      <td>-0.137351</td>\n",
       "    </tr>\n",
       "    <tr>\n",
       "      <th>Total_bil</th>\n",
       "      <td>0.011763</td>\n",
       "      <td>1.000000</td>\n",
       "      <td>0.874618</td>\n",
       "      <td>0.206669</td>\n",
       "      <td>0.214065</td>\n",
       "      <td>0.237831</td>\n",
       "      <td>-0.008099</td>\n",
       "      <td>-0.222250</td>\n",
       "      <td>-0.206159</td>\n",
       "      <td>-0.220208</td>\n",
       "    </tr>\n",
       "    <tr>\n",
       "      <th>Direct_bil</th>\n",
       "      <td>0.007529</td>\n",
       "      <td>0.874618</td>\n",
       "      <td>1.000000</td>\n",
       "      <td>0.234939</td>\n",
       "      <td>0.233894</td>\n",
       "      <td>0.257544</td>\n",
       "      <td>-0.000139</td>\n",
       "      <td>-0.228531</td>\n",
       "      <td>-0.200004</td>\n",
       "      <td>-0.246046</td>\n",
       "    </tr>\n",
       "    <tr>\n",
       "      <th>ALP</th>\n",
       "      <td>0.080425</td>\n",
       "      <td>0.206669</td>\n",
       "      <td>0.234939</td>\n",
       "      <td>1.000000</td>\n",
       "      <td>0.125680</td>\n",
       "      <td>0.167196</td>\n",
       "      <td>-0.028514</td>\n",
       "      <td>-0.165453</td>\n",
       "      <td>-0.233960</td>\n",
       "      <td>-0.184866</td>\n",
       "    </tr>\n",
       "    <tr>\n",
       "      <th>ALT</th>\n",
       "      <td>-0.086883</td>\n",
       "      <td>0.214065</td>\n",
       "      <td>0.233894</td>\n",
       "      <td>0.125680</td>\n",
       "      <td>1.000000</td>\n",
       "      <td>0.791966</td>\n",
       "      <td>-0.042518</td>\n",
       "      <td>-0.029742</td>\n",
       "      <td>-0.002374</td>\n",
       "      <td>-0.163416</td>\n",
       "    </tr>\n",
       "    <tr>\n",
       "      <th>AST</th>\n",
       "      <td>-0.019910</td>\n",
       "      <td>0.237831</td>\n",
       "      <td>0.257544</td>\n",
       "      <td>0.167196</td>\n",
       "      <td>0.791966</td>\n",
       "      <td>1.000000</td>\n",
       "      <td>-0.025645</td>\n",
       "      <td>-0.085290</td>\n",
       "      <td>-0.070024</td>\n",
       "      <td>-0.151934</td>\n",
       "    </tr>\n",
       "    <tr>\n",
       "      <th>Ttl_Prtn</th>\n",
       "      <td>-0.187461</td>\n",
       "      <td>-0.008099</td>\n",
       "      <td>-0.000139</td>\n",
       "      <td>-0.028514</td>\n",
       "      <td>-0.042518</td>\n",
       "      <td>-0.025645</td>\n",
       "      <td>1.000000</td>\n",
       "      <td>0.784053</td>\n",
       "      <td>0.233904</td>\n",
       "      <td>0.035008</td>\n",
       "    </tr>\n",
       "    <tr>\n",
       "      <th>Albumin</th>\n",
       "      <td>-0.265924</td>\n",
       "      <td>-0.222250</td>\n",
       "      <td>-0.228531</td>\n",
       "      <td>-0.165453</td>\n",
       "      <td>-0.029742</td>\n",
       "      <td>-0.085290</td>\n",
       "      <td>0.784053</td>\n",
       "      <td>1.000000</td>\n",
       "      <td>0.686322</td>\n",
       "      <td>0.161388</td>\n",
       "    </tr>\n",
       "    <tr>\n",
       "      <th>Globulin</th>\n",
       "      <td>-0.216089</td>\n",
       "      <td>-0.206159</td>\n",
       "      <td>-0.200004</td>\n",
       "      <td>-0.233960</td>\n",
       "      <td>-0.002374</td>\n",
       "      <td>-0.070024</td>\n",
       "      <td>0.233904</td>\n",
       "      <td>0.686322</td>\n",
       "      <td>1.000000</td>\n",
       "      <td>0.162319</td>\n",
       "    </tr>\n",
       "    <tr>\n",
       "      <th>Result</th>\n",
       "      <td>-0.137351</td>\n",
       "      <td>-0.220208</td>\n",
       "      <td>-0.246046</td>\n",
       "      <td>-0.184866</td>\n",
       "      <td>-0.163416</td>\n",
       "      <td>-0.151934</td>\n",
       "      <td>0.035008</td>\n",
       "      <td>0.161388</td>\n",
       "      <td>0.162319</td>\n",
       "      <td>1.000000</td>\n",
       "    </tr>\n",
       "  </tbody>\n",
       "</table>\n",
       "</div>"
      ],
      "text/plain": [
       "                 Age  Total_bil  Direct_bil       ALP       ALT       AST  \\\n",
       "Age         1.000000   0.011763    0.007529  0.080425 -0.086883 -0.019910   \n",
       "Total_bil   0.011763   1.000000    0.874618  0.206669  0.214065  0.237831   \n",
       "Direct_bil  0.007529   0.874618    1.000000  0.234939  0.233894  0.257544   \n",
       "ALP         0.080425   0.206669    0.234939  1.000000  0.125680  0.167196   \n",
       "ALT        -0.086883   0.214065    0.233894  0.125680  1.000000  0.791966   \n",
       "AST        -0.019910   0.237831    0.257544  0.167196  0.791966  1.000000   \n",
       "Ttl_Prtn   -0.187461  -0.008099   -0.000139 -0.028514 -0.042518 -0.025645   \n",
       "Albumin    -0.265924  -0.222250   -0.228531 -0.165453 -0.029742 -0.085290   \n",
       "Globulin   -0.216089  -0.206159   -0.200004 -0.233960 -0.002374 -0.070024   \n",
       "Result     -0.137351  -0.220208   -0.246046 -0.184866 -0.163416 -0.151934   \n",
       "\n",
       "            Ttl_Prtn   Albumin  Globulin    Result  \n",
       "Age        -0.187461 -0.265924 -0.216089 -0.137351  \n",
       "Total_bil  -0.008099 -0.222250 -0.206159 -0.220208  \n",
       "Direct_bil -0.000139 -0.228531 -0.200004 -0.246046  \n",
       "ALP        -0.028514 -0.165453 -0.233960 -0.184866  \n",
       "ALT        -0.042518 -0.029742 -0.002374 -0.163416  \n",
       "AST        -0.025645 -0.085290 -0.070024 -0.151934  \n",
       "Ttl_Prtn    1.000000  0.784053  0.233904  0.035008  \n",
       "Albumin     0.784053  1.000000  0.686322  0.161388  \n",
       "Globulin    0.233904  0.686322  1.000000  0.162319  \n",
       "Result      0.035008  0.161388  0.162319  1.000000  "
      ]
     },
     "execution_count": 35,
     "metadata": {},
     "output_type": "execute_result"
    }
   ],
   "source": [
    "data.corr()"
   ]
  },
  {
   "cell_type": "code",
   "execution_count": 36,
   "id": "feee2cb7",
   "metadata": {},
   "outputs": [
    {
     "data": {
      "text/plain": [
       "<AxesSubplot:>"
      ]
     },
     "execution_count": 36,
     "metadata": {},
     "output_type": "execute_result"
    },
    {
     "data": {
      "image/png": "[encoded data removed]",
      "text/plain": [
       "<Figure size 640x480 with 2 Axes>"
      ]
     },
     "metadata": {},
     "output_type": "display_data"
    }
   ],
   "source": [
    "sns.heatmap(data.corr(),annot=True)"
   ]
  },
  {
   "cell_type": "code",
   "execution_count": 37,
   "id": "e43d066c",
   "metadata": {},
   "outputs": [
    {
     "data": {
      "text/html": [
       "<div>\n",
       "<style scoped>\n",
       "    .dataframe tbody tr th:only-of-type {\n",
       "        vertical-align: middle;\n",
       "    }\n",
       "\n",
       "    .dataframe tbody tr th {\n",
       "        vertical-align: top;\n",
       "    }\n",
       "\n",
       "    .dataframe thead th {\n",
       "        text-align: right;\n",
       "    }\n",
       "</style>\n",
       "<table border=\"1\" class=\"dataframe\">\n",
       "  <thead>\n",
       "    <tr style=\"text-align: right;\">\n",
       "      <th></th>\n",
       "      <th>Ttl_Prtn</th>\n",
       "      <th>Albumin</th>\n",
       "      <th>Globulin</th>\n",
       "      <th>A/G_ratio</th>\n",
       "      <th>A+G</th>\n",
       "      <th>TP-A</th>\n",
       "    </tr>\n",
       "  </thead>\n",
       "  <tbody>\n",
       "    <tr>\n",
       "      <th>0</th>\n",
       "      <td>6.8</td>\n",
       "      <td>3.3</td>\n",
       "      <td>0.90</td>\n",
       "      <td>3.666667</td>\n",
       "      <td>4.20</td>\n",
       "      <td>3.5</td>\n",
       "    </tr>\n",
       "    <tr>\n",
       "      <th>1</th>\n",
       "      <td>7.5</td>\n",
       "      <td>3.2</td>\n",
       "      <td>0.74</td>\n",
       "      <td>4.324324</td>\n",
       "      <td>3.94</td>\n",
       "      <td>4.3</td>\n",
       "    </tr>\n",
       "    <tr>\n",
       "      <th>2</th>\n",
       "      <td>7.0</td>\n",
       "      <td>3.3</td>\n",
       "      <td>0.89</td>\n",
       "      <td>3.707865</td>\n",
       "      <td>4.19</td>\n",
       "      <td>3.7</td>\n",
       "    </tr>\n",
       "    <tr>\n",
       "      <th>3</th>\n",
       "      <td>6.8</td>\n",
       "      <td>3.4</td>\n",
       "      <td>1.00</td>\n",
       "      <td>3.400000</td>\n",
       "      <td>4.40</td>\n",
       "      <td>3.4</td>\n",
       "    </tr>\n",
       "    <tr>\n",
       "      <th>4</th>\n",
       "      <td>7.3</td>\n",
       "      <td>2.4</td>\n",
       "      <td>0.40</td>\n",
       "      <td>6.000000</td>\n",
       "      <td>2.80</td>\n",
       "      <td>4.9</td>\n",
       "    </tr>\n",
       "    <tr>\n",
       "      <th>...</th>\n",
       "      <td>...</td>\n",
       "      <td>...</td>\n",
       "      <td>...</td>\n",
       "      <td>...</td>\n",
       "      <td>...</td>\n",
       "      <td>...</td>\n",
       "    </tr>\n",
       "    <tr>\n",
       "      <th>578</th>\n",
       "      <td>5.9</td>\n",
       "      <td>1.6</td>\n",
       "      <td>0.37</td>\n",
       "      <td>4.324324</td>\n",
       "      <td>1.97</td>\n",
       "      <td>4.3</td>\n",
       "    </tr>\n",
       "    <tr>\n",
       "      <th>579</th>\n",
       "      <td>6.0</td>\n",
       "      <td>3.2</td>\n",
       "      <td>1.10</td>\n",
       "      <td>2.909091</td>\n",
       "      <td>4.30</td>\n",
       "      <td>2.8</td>\n",
       "    </tr>\n",
       "    <tr>\n",
       "      <th>580</th>\n",
       "      <td>6.4</td>\n",
       "      <td>3.2</td>\n",
       "      <td>1.00</td>\n",
       "      <td>3.200000</td>\n",
       "      <td>4.20</td>\n",
       "      <td>3.2</td>\n",
       "    </tr>\n",
       "    <tr>\n",
       "      <th>581</th>\n",
       "      <td>6.8</td>\n",
       "      <td>3.4</td>\n",
       "      <td>1.00</td>\n",
       "      <td>3.400000</td>\n",
       "      <td>4.40</td>\n",
       "      <td>3.4</td>\n",
       "    </tr>\n",
       "    <tr>\n",
       "      <th>582</th>\n",
       "      <td>7.3</td>\n",
       "      <td>4.4</td>\n",
       "      <td>1.50</td>\n",
       "      <td>2.933333</td>\n",
       "      <td>5.90</td>\n",
       "      <td>2.9</td>\n",
       "    </tr>\n",
       "  </tbody>\n",
       "</table>\n",
       "<p>583 rows × 6 columns</p>\n",
       "</div>"
      ],
      "text/plain": [
       "     Ttl_Prtn  Albumin  Globulin  A/G_ratio   A+G  TP-A\n",
       "0         6.8      3.3      0.90   3.666667  4.20   3.5\n",
       "1         7.5      3.2      0.74   4.324324  3.94   4.3\n",
       "2         7.0      3.3      0.89   3.707865  4.19   3.7\n",
       "3         6.8      3.4      1.00   3.400000  4.40   3.4\n",
       "4         7.3      2.4      0.40   6.000000  2.80   4.9\n",
       "..        ...      ...       ...        ...   ...   ...\n",
       "578       5.9      1.6      0.37   4.324324  1.97   4.3\n",
       "579       6.0      3.2      1.10   2.909091  4.30   2.8\n",
       "580       6.4      3.2      1.00   3.200000  4.20   3.2\n",
       "581       6.8      3.4      1.00   3.400000  4.40   3.4\n",
       "582       7.3      4.4      1.50   2.933333  5.90   2.9\n",
       "\n",
       "[583 rows x 6 columns]"
      ]
     },
     "execution_count": 37,
     "metadata": {},
     "output_type": "execute_result"
    }
   ],
   "source": [
    "df_temp =pd.DataFrame([data.Ttl_Prtn,data.Albumin,data.Globulin]).transpose()\n",
    "df_temp['A/G_ratio'] = data.Albumin/data.Globulin\n",
    "df_temp['A+G'] = data.Albumin+data.Globulin\n",
    "df_temp['TP-A'] = data.Ttl_Prtn - data.Albumin\n",
    "df_temp"
   ]
  },
  {
   "cell_type": "code",
   "execution_count": 38,
   "id": "bcadcd42",
   "metadata": {},
   "outputs": [
    {
     "data": {
      "text/plain": [
       "<AxesSubplot:>"
      ]
     },
     "execution_count": 38,
     "metadata": {},
     "output_type": "execute_result"
    },
    {
     "data": {
      "image/png": "[encoded data removed]",
      "text/plain": [
       "<Figure size 640x480 with 2 Axes>"
      ]
     },
     "metadata": {},
     "output_type": "display_data"
    }
   ],
   "source": [
    "sns.heatmap(df_temp.corr(),annot=True)"
   ]
  },
  {
   "cell_type": "markdown",
   "id": "a78776db",
   "metadata": {},
   "source": [
    "### Insights from correlation:\n",
    "- The correlation heat map shows high correlation between \n",
    "    - total bilirubin and direct bilirubin\n",
    "    - ALT and AST\n",
    "    - Total protein and albumin\n",
    "    - Albumin and globulin\n",
    "- It makes sense that direct bilirubin is a part of total bilirubin and hence they're correlated. Of these, direct bilirubin makes more sense as connected to liver disease, since indirect bilirubin is connected to anemia and is not relevant with liver malfunctioning.(Ref: Google). Hence we consider direct bilirubin and eliminate total bilirubin in our final features. \n",
    "- While high AST levels mean there may be tissue injury, it doesn't always relate to the liver. By contrast, alanine aminotransferase (ALT) is found mainly in the liver. Additionally its the ratio of ast/alt that is significant in identifying liver cancer. Hence we will take ast/alt as a feature than individual terms so that both are included and that the effective usage of the values are made. \n",
    "- Total proteins are sum of albumin and globulin and other minor proteins. And lower Albumin/globulin ratio is connected with liver diseases. In this regard, observing the correlation between total protein, albumin and globulin, and their ratios, we see that total protein and albumin are highly correlated and globulin and albumin are somewhat correlated.\n",
    "- Hence total_protien and Albumin/Globulin ratio are important considerations and will be made part of final features.\n",
    "- Our final features will hence include direct bilirubin, AST/ALT, total protein and Albumin/Globulin, along with Age, Gender, ALP. Our target remains the result"
   ]
  },
  {
   "cell_type": "markdown",
   "id": "01e6f405",
   "metadata": {},
   "source": [
    "### Feature Selection - Processing"
   ]
  },
  {
   "cell_type": "code",
   "execution_count": 39,
   "id": "e882f069",
   "metadata": {},
   "outputs": [
    {
     "data": {
      "text/plain": [
       "Index(['Age', 'Gender', 'Total_bil', 'Direct_bil', 'ALP', 'ALT', 'AST',\n",
       "       'Ttl_Prtn', 'Albumin', 'Globulin', 'Result'],\n",
       "      dtype='object')"
      ]
     },
     "execution_count": 39,
     "metadata": {},
     "output_type": "execute_result"
    }
   ],
   "source": [
    "data.columns"
   ]
  },
  {
   "cell_type": "code",
   "execution_count": 40,
   "id": "1d35dc1d",
   "metadata": {},
   "outputs": [],
   "source": [
    "temp = data.drop(['Total_bil','ALT', 'AST', 'Albumin', 'Globulin','Result'],axis=1)\n",
    "y = data.Result\n",
    "temp['AST/ALT'] = data.AST/data.ALT\n",
    "temp['A/G'] = data.Albumin/data.Globulin"
   ]
  },
  {
   "cell_type": "code",
   "execution_count": 41,
   "id": "54c9a13f",
   "metadata": {},
   "outputs": [
    {
     "data": {
      "text/html": [
       "<div>\n",
       "<style scoped>\n",
       "    .dataframe tbody tr th:only-of-type {\n",
       "        vertical-align: middle;\n",
       "    }\n",
       "\n",
       "    .dataframe tbody tr th {\n",
       "        vertical-align: top;\n",
       "    }\n",
       "\n",
       "    .dataframe thead th {\n",
       "        text-align: right;\n",
       "    }\n",
       "</style>\n",
       "<table border=\"1\" class=\"dataframe\">\n",
       "  <thead>\n",
       "    <tr style=\"text-align: right;\">\n",
       "      <th></th>\n",
       "      <th>Age</th>\n",
       "      <th>Gender</th>\n",
       "      <th>Direct_bil</th>\n",
       "      <th>ALP</th>\n",
       "      <th>Ttl_Prtn</th>\n",
       "      <th>AST/ALT</th>\n",
       "      <th>A/G</th>\n",
       "    </tr>\n",
       "  </thead>\n",
       "  <tbody>\n",
       "    <tr>\n",
       "      <th>0</th>\n",
       "      <td>65</td>\n",
       "      <td>Female</td>\n",
       "      <td>0.1</td>\n",
       "      <td>187</td>\n",
       "      <td>6.8</td>\n",
       "      <td>1.125000</td>\n",
       "      <td>3.666667</td>\n",
       "    </tr>\n",
       "    <tr>\n",
       "      <th>1</th>\n",
       "      <td>62</td>\n",
       "      <td>Male</td>\n",
       "      <td>5.5</td>\n",
       "      <td>699</td>\n",
       "      <td>7.5</td>\n",
       "      <td>1.562500</td>\n",
       "      <td>4.324324</td>\n",
       "    </tr>\n",
       "    <tr>\n",
       "      <th>2</th>\n",
       "      <td>62</td>\n",
       "      <td>Male</td>\n",
       "      <td>4.1</td>\n",
       "      <td>490</td>\n",
       "      <td>7.0</td>\n",
       "      <td>1.133333</td>\n",
       "      <td>3.707865</td>\n",
       "    </tr>\n",
       "    <tr>\n",
       "      <th>3</th>\n",
       "      <td>58</td>\n",
       "      <td>Male</td>\n",
       "      <td>0.4</td>\n",
       "      <td>182</td>\n",
       "      <td>6.8</td>\n",
       "      <td>1.428571</td>\n",
       "      <td>3.400000</td>\n",
       "    </tr>\n",
       "    <tr>\n",
       "      <th>4</th>\n",
       "      <td>72</td>\n",
       "      <td>Male</td>\n",
       "      <td>2.0</td>\n",
       "      <td>195</td>\n",
       "      <td>7.3</td>\n",
       "      <td>2.185185</td>\n",
       "      <td>6.000000</td>\n",
       "    </tr>\n",
       "    <tr>\n",
       "      <th>...</th>\n",
       "      <td>...</td>\n",
       "      <td>...</td>\n",
       "      <td>...</td>\n",
       "      <td>...</td>\n",
       "      <td>...</td>\n",
       "      <td>...</td>\n",
       "      <td>...</td>\n",
       "    </tr>\n",
       "    <tr>\n",
       "      <th>578</th>\n",
       "      <td>60</td>\n",
       "      <td>Male</td>\n",
       "      <td>0.1</td>\n",
       "      <td>500</td>\n",
       "      <td>5.9</td>\n",
       "      <td>1.700000</td>\n",
       "      <td>4.324324</td>\n",
       "    </tr>\n",
       "    <tr>\n",
       "      <th>579</th>\n",
       "      <td>40</td>\n",
       "      <td>Male</td>\n",
       "      <td>0.1</td>\n",
       "      <td>98</td>\n",
       "      <td>6.0</td>\n",
       "      <td>0.885714</td>\n",
       "      <td>2.909091</td>\n",
       "    </tr>\n",
       "    <tr>\n",
       "      <th>580</th>\n",
       "      <td>52</td>\n",
       "      <td>Male</td>\n",
       "      <td>0.2</td>\n",
       "      <td>245</td>\n",
       "      <td>6.4</td>\n",
       "      <td>1.020833</td>\n",
       "      <td>3.200000</td>\n",
       "    </tr>\n",
       "    <tr>\n",
       "      <th>581</th>\n",
       "      <td>31</td>\n",
       "      <td>Male</td>\n",
       "      <td>0.5</td>\n",
       "      <td>184</td>\n",
       "      <td>6.8</td>\n",
       "      <td>1.103448</td>\n",
       "      <td>3.400000</td>\n",
       "    </tr>\n",
       "    <tr>\n",
       "      <th>582</th>\n",
       "      <td>38</td>\n",
       "      <td>Male</td>\n",
       "      <td>0.3</td>\n",
       "      <td>216</td>\n",
       "      <td>7.3</td>\n",
       "      <td>1.142857</td>\n",
       "      <td>2.933333</td>\n",
       "    </tr>\n",
       "  </tbody>\n",
       "</table>\n",
       "<p>583 rows × 7 columns</p>\n",
       "</div>"
      ],
      "text/plain": [
       "     Age  Gender  Direct_bil  ALP  Ttl_Prtn   AST/ALT       A/G\n",
       "0     65  Female         0.1  187       6.8  1.125000  3.666667\n",
       "1     62    Male         5.5  699       7.5  1.562500  4.324324\n",
       "2     62    Male         4.1  490       7.0  1.133333  3.707865\n",
       "3     58    Male         0.4  182       6.8  1.428571  3.400000\n",
       "4     72    Male         2.0  195       7.3  2.185185  6.000000\n",
       "..   ...     ...         ...  ...       ...       ...       ...\n",
       "578   60    Male         0.1  500       5.9  1.700000  4.324324\n",
       "579   40    Male         0.1   98       6.0  0.885714  2.909091\n",
       "580   52    Male         0.2  245       6.4  1.020833  3.200000\n",
       "581   31    Male         0.5  184       6.8  1.103448  3.400000\n",
       "582   38    Male         0.3  216       7.3  1.142857  2.933333\n",
       "\n",
       "[583 rows x 7 columns]"
      ]
     },
     "execution_count": 41,
     "metadata": {},
     "output_type": "execute_result"
    }
   ],
   "source": [
    "temp"
   ]
  },
  {
   "cell_type": "markdown",
   "id": "c9e46946",
   "metadata": {},
   "source": [
    "### Encoding the gender column by one hot encoding"
   ]
  },
  {
   "cell_type": "code",
   "execution_count": 42,
   "id": "6a63b17d",
   "metadata": {},
   "outputs": [],
   "source": [
    "#Since the gender column or its values are not ordinal, we employ one hot encoding\n",
    "temp['Male'] = pd.get_dummies(temp['Gender'])['Male']\n",
    "temp['Female'] = pd.get_dummies(temp['Gender'])['Female']\n",
    "temp.drop('Gender',axis=1,inplace=True)"
   ]
  },
  {
   "cell_type": "code",
   "execution_count": 43,
   "id": "d138b473",
   "metadata": {},
   "outputs": [],
   "source": [
    "#Onehot encoding froms scikit learn, but the column names will be 0&1. Dummies function of pandas is easiest\n",
    "#from sklearn.preprocessing import OneHotEncoder\n",
    "#ohenc = OneHotEncoder()\n",
    "#temp = pd.DataFrame(ohenc.fit_transform(x[['Gender']]).toarray())"
   ]
  },
  {
   "cell_type": "code",
   "execution_count": 44,
   "id": "1b817e1a",
   "metadata": {},
   "outputs": [
    {
     "data": {
      "text/html": [
       "<div>\n",
       "<style scoped>\n",
       "    .dataframe tbody tr th:only-of-type {\n",
       "        vertical-align: middle;\n",
       "    }\n",
       "\n",
       "    .dataframe tbody tr th {\n",
       "        vertical-align: top;\n",
       "    }\n",
       "\n",
       "    .dataframe thead th {\n",
       "        text-align: right;\n",
       "    }\n",
       "</style>\n",
       "<table border=\"1\" class=\"dataframe\">\n",
       "  <thead>\n",
       "    <tr style=\"text-align: right;\">\n",
       "      <th></th>\n",
       "      <th>Age</th>\n",
       "      <th>Direct_bil</th>\n",
       "      <th>ALP</th>\n",
       "      <th>Ttl_Prtn</th>\n",
       "      <th>AST/ALT</th>\n",
       "      <th>A/G</th>\n",
       "      <th>Male</th>\n",
       "      <th>Female</th>\n",
       "    </tr>\n",
       "  </thead>\n",
       "  <tbody>\n",
       "    <tr>\n",
       "      <th>0</th>\n",
       "      <td>65</td>\n",
       "      <td>0.1</td>\n",
       "      <td>187</td>\n",
       "      <td>6.8</td>\n",
       "      <td>1.125000</td>\n",
       "      <td>3.666667</td>\n",
       "      <td>0</td>\n",
       "      <td>1</td>\n",
       "    </tr>\n",
       "    <tr>\n",
       "      <th>1</th>\n",
       "      <td>62</td>\n",
       "      <td>5.5</td>\n",
       "      <td>699</td>\n",
       "      <td>7.5</td>\n",
       "      <td>1.562500</td>\n",
       "      <td>4.324324</td>\n",
       "      <td>1</td>\n",
       "      <td>0</td>\n",
       "    </tr>\n",
       "    <tr>\n",
       "      <th>2</th>\n",
       "      <td>62</td>\n",
       "      <td>4.1</td>\n",
       "      <td>490</td>\n",
       "      <td>7.0</td>\n",
       "      <td>1.133333</td>\n",
       "      <td>3.707865</td>\n",
       "      <td>1</td>\n",
       "      <td>0</td>\n",
       "    </tr>\n",
       "    <tr>\n",
       "      <th>3</th>\n",
       "      <td>58</td>\n",
       "      <td>0.4</td>\n",
       "      <td>182</td>\n",
       "      <td>6.8</td>\n",
       "      <td>1.428571</td>\n",
       "      <td>3.400000</td>\n",
       "      <td>1</td>\n",
       "      <td>0</td>\n",
       "    </tr>\n",
       "    <tr>\n",
       "      <th>4</th>\n",
       "      <td>72</td>\n",
       "      <td>2.0</td>\n",
       "      <td>195</td>\n",
       "      <td>7.3</td>\n",
       "      <td>2.185185</td>\n",
       "      <td>6.000000</td>\n",
       "      <td>1</td>\n",
       "      <td>0</td>\n",
       "    </tr>\n",
       "    <tr>\n",
       "      <th>...</th>\n",
       "      <td>...</td>\n",
       "      <td>...</td>\n",
       "      <td>...</td>\n",
       "      <td>...</td>\n",
       "      <td>...</td>\n",
       "      <td>...</td>\n",
       "      <td>...</td>\n",
       "      <td>...</td>\n",
       "    </tr>\n",
       "    <tr>\n",
       "      <th>578</th>\n",
       "      <td>60</td>\n",
       "      <td>0.1</td>\n",
       "      <td>500</td>\n",
       "      <td>5.9</td>\n",
       "      <td>1.700000</td>\n",
       "      <td>4.324324</td>\n",
       "      <td>1</td>\n",
       "      <td>0</td>\n",
       "    </tr>\n",
       "    <tr>\n",
       "      <th>579</th>\n",
       "      <td>40</td>\n",
       "      <td>0.1</td>\n",
       "      <td>98</td>\n",
       "      <td>6.0</td>\n",
       "      <td>0.885714</td>\n",
       "      <td>2.909091</td>\n",
       "      <td>1</td>\n",
       "      <td>0</td>\n",
       "    </tr>\n",
       "    <tr>\n",
       "      <th>580</th>\n",
       "      <td>52</td>\n",
       "      <td>0.2</td>\n",
       "      <td>245</td>\n",
       "      <td>6.4</td>\n",
       "      <td>1.020833</td>\n",
       "      <td>3.200000</td>\n",
       "      <td>1</td>\n",
       "      <td>0</td>\n",
       "    </tr>\n",
       "    <tr>\n",
       "      <th>581</th>\n",
       "      <td>31</td>\n",
       "      <td>0.5</td>\n",
       "      <td>184</td>\n",
       "      <td>6.8</td>\n",
       "      <td>1.103448</td>\n",
       "      <td>3.400000</td>\n",
       "      <td>1</td>\n",
       "      <td>0</td>\n",
       "    </tr>\n",
       "    <tr>\n",
       "      <th>582</th>\n",
       "      <td>38</td>\n",
       "      <td>0.3</td>\n",
       "      <td>216</td>\n",
       "      <td>7.3</td>\n",
       "      <td>1.142857</td>\n",
       "      <td>2.933333</td>\n",
       "      <td>1</td>\n",
       "      <td>0</td>\n",
       "    </tr>\n",
       "  </tbody>\n",
       "</table>\n",
       "<p>583 rows × 8 columns</p>\n",
       "</div>"
      ],
      "text/plain": [
       "     Age  Direct_bil  ALP  Ttl_Prtn   AST/ALT       A/G  Male  Female\n",
       "0     65         0.1  187       6.8  1.125000  3.666667     0       1\n",
       "1     62         5.5  699       7.5  1.562500  4.324324     1       0\n",
       "2     62         4.1  490       7.0  1.133333  3.707865     1       0\n",
       "3     58         0.4  182       6.8  1.428571  3.400000     1       0\n",
       "4     72         2.0  195       7.3  2.185185  6.000000     1       0\n",
       "..   ...         ...  ...       ...       ...       ...   ...     ...\n",
       "578   60         0.1  500       5.9  1.700000  4.324324     1       0\n",
       "579   40         0.1   98       6.0  0.885714  2.909091     1       0\n",
       "580   52         0.2  245       6.4  1.020833  3.200000     1       0\n",
       "581   31         0.5  184       6.8  1.103448  3.400000     1       0\n",
       "582   38         0.3  216       7.3  1.142857  2.933333     1       0\n",
       "\n",
       "[583 rows x 8 columns]"
      ]
     },
     "execution_count": 44,
     "metadata": {},
     "output_type": "execute_result"
    }
   ],
   "source": [
    "temp"
   ]
  },
  {
   "cell_type": "markdown",
   "id": "d2aef70b",
   "metadata": {},
   "source": [
    "### Scaling the data to ensure range of all features is the same.\n",
    "- Observing the distributions to ensure if the scaling has to be normal or standard"
   ]
  },
  {
   "cell_type": "code",
   "execution_count": 45,
   "id": "83777fc4",
   "metadata": {},
   "outputs": [
    {
     "data": {
      "text/plain": [
       "Index(['Age', 'Direct_bil', 'ALP', 'Ttl_Prtn', 'AST/ALT', 'A/G', 'Male',\n",
       "       'Female'],\n",
       "      dtype='object')"
      ]
     },
     "execution_count": 45,
     "metadata": {},
     "output_type": "execute_result"
    }
   ],
   "source": [
    "temp.columns"
   ]
  },
  {
   "cell_type": "code",
   "execution_count": 46,
   "id": "86748bbf",
   "metadata": {},
   "outputs": [
    {
     "data": {
      "image/png": "[encoded data removed]",
      "text/plain": [
       "<Figure size 2000x2000 with 6 Axes>"
      ]
     },
     "metadata": {},
     "output_type": "display_data"
    }
   ],
   "source": [
    "plt.figure(figsize = (20,20))\n",
    "plt_num = 1\n",
    "for i in ['Age', 'Direct_bil', 'ALP', 'Ttl_Prtn', 'AST/ALT', 'A/G']:\n",
    "    plt.subplot(3,3,plt_num)\n",
    "    sns.distplot(temp[i])\n",
    "    plt.xlabel(i)\n",
    "    plt.ylabel('values')\n",
    "    plt_num+=1\n",
    "plt.show()"
   ]
  },
  {
   "cell_type": "code",
   "execution_count": 47,
   "id": "1cb04ba6",
   "metadata": {},
   "outputs": [
    {
     "data": {
      "text/html": [
       "<div>\n",
       "<style scoped>\n",
       "    .dataframe tbody tr th:only-of-type {\n",
       "        vertical-align: middle;\n",
       "    }\n",
       "\n",
       "    .dataframe tbody tr th {\n",
       "        vertical-align: top;\n",
       "    }\n",
       "\n",
       "    .dataframe thead th {\n",
       "        text-align: right;\n",
       "    }\n",
       "</style>\n",
       "<table border=\"1\" class=\"dataframe\">\n",
       "  <thead>\n",
       "    <tr style=\"text-align: right;\">\n",
       "      <th></th>\n",
       "      <th>Age</th>\n",
       "      <th>Direct_bil</th>\n",
       "      <th>ALP</th>\n",
       "      <th>Ttl_Prtn</th>\n",
       "      <th>AST/ALT</th>\n",
       "      <th>A/G</th>\n",
       "    </tr>\n",
       "  </thead>\n",
       "  <tbody>\n",
       "    <tr>\n",
       "      <th>0</th>\n",
       "      <td>0.709302</td>\n",
       "      <td>0.000000</td>\n",
       "      <td>0.060576</td>\n",
       "      <td>0.594203</td>\n",
       "      <td>0.117179</td>\n",
       "      <td>0.470588</td>\n",
       "    </tr>\n",
       "    <tr>\n",
       "      <th>1</th>\n",
       "      <td>0.674419</td>\n",
       "      <td>0.275510</td>\n",
       "      <td>0.310699</td>\n",
       "      <td>0.695652</td>\n",
       "      <td>0.166708</td>\n",
       "      <td>0.586645</td>\n",
       "    </tr>\n",
       "    <tr>\n",
       "      <th>2</th>\n",
       "      <td>0.674419</td>\n",
       "      <td>0.204082</td>\n",
       "      <td>0.208598</td>\n",
       "      <td>0.623188</td>\n",
       "      <td>0.118122</td>\n",
       "      <td>0.477859</td>\n",
       "    </tr>\n",
       "    <tr>\n",
       "      <th>3</th>\n",
       "      <td>0.627907</td>\n",
       "      <td>0.015306</td>\n",
       "      <td>0.058134</td>\n",
       "      <td>0.594203</td>\n",
       "      <td>0.151546</td>\n",
       "      <td>0.423529</td>\n",
       "    </tr>\n",
       "    <tr>\n",
       "      <th>4</th>\n",
       "      <td>0.790698</td>\n",
       "      <td>0.096939</td>\n",
       "      <td>0.064485</td>\n",
       "      <td>0.666667</td>\n",
       "      <td>0.237202</td>\n",
       "      <td>0.882353</td>\n",
       "    </tr>\n",
       "    <tr>\n",
       "      <th>...</th>\n",
       "      <td>...</td>\n",
       "      <td>...</td>\n",
       "      <td>...</td>\n",
       "      <td>...</td>\n",
       "      <td>...</td>\n",
       "      <td>...</td>\n",
       "    </tr>\n",
       "    <tr>\n",
       "      <th>578</th>\n",
       "      <td>0.651163</td>\n",
       "      <td>0.000000</td>\n",
       "      <td>0.213483</td>\n",
       "      <td>0.463768</td>\n",
       "      <td>0.182274</td>\n",
       "      <td>0.586645</td>\n",
       "    </tr>\n",
       "    <tr>\n",
       "      <th>579</th>\n",
       "      <td>0.418605</td>\n",
       "      <td>0.000000</td>\n",
       "      <td>0.017098</td>\n",
       "      <td>0.478261</td>\n",
       "      <td>0.090089</td>\n",
       "      <td>0.336898</td>\n",
       "    </tr>\n",
       "    <tr>\n",
       "      <th>580</th>\n",
       "      <td>0.558140</td>\n",
       "      <td>0.005102</td>\n",
       "      <td>0.088911</td>\n",
       "      <td>0.536232</td>\n",
       "      <td>0.105386</td>\n",
       "      <td>0.388235</td>\n",
       "    </tr>\n",
       "    <tr>\n",
       "      <th>581</th>\n",
       "      <td>0.313953</td>\n",
       "      <td>0.020408</td>\n",
       "      <td>0.059111</td>\n",
       "      <td>0.594203</td>\n",
       "      <td>0.114739</td>\n",
       "      <td>0.423529</td>\n",
       "    </tr>\n",
       "    <tr>\n",
       "      <th>582</th>\n",
       "      <td>0.395349</td>\n",
       "      <td>0.010204</td>\n",
       "      <td>0.074744</td>\n",
       "      <td>0.666667</td>\n",
       "      <td>0.119200</td>\n",
       "      <td>0.341176</td>\n",
       "    </tr>\n",
       "  </tbody>\n",
       "</table>\n",
       "<p>583 rows × 6 columns</p>\n",
       "</div>"
      ],
      "text/plain": [
       "          Age  Direct_bil       ALP  Ttl_Prtn   AST/ALT       A/G\n",
       "0    0.709302    0.000000  0.060576  0.594203  0.117179  0.470588\n",
       "1    0.674419    0.275510  0.310699  0.695652  0.166708  0.586645\n",
       "2    0.674419    0.204082  0.208598  0.623188  0.118122  0.477859\n",
       "3    0.627907    0.015306  0.058134  0.594203  0.151546  0.423529\n",
       "4    0.790698    0.096939  0.064485  0.666667  0.237202  0.882353\n",
       "..        ...         ...       ...       ...       ...       ...\n",
       "578  0.651163    0.000000  0.213483  0.463768  0.182274  0.586645\n",
       "579  0.418605    0.000000  0.017098  0.478261  0.090089  0.336898\n",
       "580  0.558140    0.005102  0.088911  0.536232  0.105386  0.388235\n",
       "581  0.313953    0.020408  0.059111  0.594203  0.114739  0.423529\n",
       "582  0.395349    0.010204  0.074744  0.666667  0.119200  0.341176\n",
       "\n",
       "[583 rows x 6 columns]"
      ]
     },
     "execution_count": 47,
     "metadata": {},
     "output_type": "execute_result"
    }
   ],
   "source": [
    "#The distributions are close to normal distributions, but applying normal distribution will give negative values\n",
    "#Having negative values will not let us use Naive Bayes, which is one good binary classification algorithm\n",
    "#So we switch to MinMaxScaling\n",
    "from sklearn.preprocessing import MinMaxScaler\n",
    "MMS = MinMaxScaler()\n",
    "x_temp = temp[['Age', 'Direct_bil', 'ALP', 'Ttl_Prtn', 'AST/ALT', 'A/G']]\n",
    "x_scaled = pd.DataFrame(MMS.fit_transform(x_temp[['Age', 'Direct_bil', 'ALP', 'Ttl_Prtn', 'AST/ALT','A/G']]),columns=x_temp.columns)\n",
    "x_scaled"
   ]
  },
  {
   "cell_type": "code",
   "execution_count": 48,
   "id": "d177d369",
   "metadata": {},
   "outputs": [
    {
     "data": {
      "text/html": [
       "<div>\n",
       "<style scoped>\n",
       "    .dataframe tbody tr th:only-of-type {\n",
       "        vertical-align: middle;\n",
       "    }\n",
       "\n",
       "    .dataframe tbody tr th {\n",
       "        vertical-align: top;\n",
       "    }\n",
       "\n",
       "    .dataframe thead th {\n",
       "        text-align: right;\n",
       "    }\n",
       "</style>\n",
       "<table border=\"1\" class=\"dataframe\">\n",
       "  <thead>\n",
       "    <tr style=\"text-align: right;\">\n",
       "      <th></th>\n",
       "      <th>Male</th>\n",
       "      <th>Female</th>\n",
       "    </tr>\n",
       "  </thead>\n",
       "  <tbody>\n",
       "    <tr>\n",
       "      <th>0</th>\n",
       "      <td>0</td>\n",
       "      <td>1</td>\n",
       "    </tr>\n",
       "    <tr>\n",
       "      <th>1</th>\n",
       "      <td>1</td>\n",
       "      <td>0</td>\n",
       "    </tr>\n",
       "    <tr>\n",
       "      <th>2</th>\n",
       "      <td>1</td>\n",
       "      <td>0</td>\n",
       "    </tr>\n",
       "    <tr>\n",
       "      <th>3</th>\n",
       "      <td>1</td>\n",
       "      <td>0</td>\n",
       "    </tr>\n",
       "    <tr>\n",
       "      <th>4</th>\n",
       "      <td>1</td>\n",
       "      <td>0</td>\n",
       "    </tr>\n",
       "    <tr>\n",
       "      <th>...</th>\n",
       "      <td>...</td>\n",
       "      <td>...</td>\n",
       "    </tr>\n",
       "    <tr>\n",
       "      <th>578</th>\n",
       "      <td>1</td>\n",
       "      <td>0</td>\n",
       "    </tr>\n",
       "    <tr>\n",
       "      <th>579</th>\n",
       "      <td>1</td>\n",
       "      <td>0</td>\n",
       "    </tr>\n",
       "    <tr>\n",
       "      <th>580</th>\n",
       "      <td>1</td>\n",
       "      <td>0</td>\n",
       "    </tr>\n",
       "    <tr>\n",
       "      <th>581</th>\n",
       "      <td>1</td>\n",
       "      <td>0</td>\n",
       "    </tr>\n",
       "    <tr>\n",
       "      <th>582</th>\n",
       "      <td>1</td>\n",
       "      <td>0</td>\n",
       "    </tr>\n",
       "  </tbody>\n",
       "</table>\n",
       "<p>583 rows × 2 columns</p>\n",
       "</div>"
      ],
      "text/plain": [
       "     Male  Female\n",
       "0       0       1\n",
       "1       1       0\n",
       "2       1       0\n",
       "3       1       0\n",
       "4       1       0\n",
       "..    ...     ...\n",
       "578     1       0\n",
       "579     1       0\n",
       "580     1       0\n",
       "581     1       0\n",
       "582     1       0\n",
       "\n",
       "[583 rows x 2 columns]"
      ]
     },
     "execution_count": 48,
     "metadata": {},
     "output_type": "execute_result"
    }
   ],
   "source": [
    "temp.drop(['Age', 'Direct_bil', 'ALP', 'Ttl_Prtn', 'AST/ALT', 'A/G'],axis=1,inplace=True)\n",
    "temp"
   ]
  },
  {
   "cell_type": "code",
   "execution_count": 49,
   "id": "4326394a",
   "metadata": {},
   "outputs": [
    {
     "data": {
      "text/html": [
       "<div>\n",
       "<style scoped>\n",
       "    .dataframe tbody tr th:only-of-type {\n",
       "        vertical-align: middle;\n",
       "    }\n",
       "\n",
       "    .dataframe tbody tr th {\n",
       "        vertical-align: top;\n",
       "    }\n",
       "\n",
       "    .dataframe thead th {\n",
       "        text-align: right;\n",
       "    }\n",
       "</style>\n",
       "<table border=\"1\" class=\"dataframe\">\n",
       "  <thead>\n",
       "    <tr style=\"text-align: right;\">\n",
       "      <th></th>\n",
       "      <th>Male</th>\n",
       "      <th>Female</th>\n",
       "      <th>Age</th>\n",
       "      <th>Direct_bil</th>\n",
       "      <th>ALP</th>\n",
       "      <th>Ttl_Prtn</th>\n",
       "      <th>AST/ALT</th>\n",
       "      <th>A/G</th>\n",
       "    </tr>\n",
       "  </thead>\n",
       "  <tbody>\n",
       "    <tr>\n",
       "      <th>0</th>\n",
       "      <td>0</td>\n",
       "      <td>1</td>\n",
       "      <td>0.709302</td>\n",
       "      <td>0.000000</td>\n",
       "      <td>0.060576</td>\n",
       "      <td>0.594203</td>\n",
       "      <td>0.117179</td>\n",
       "      <td>0.470588</td>\n",
       "    </tr>\n",
       "    <tr>\n",
       "      <th>1</th>\n",
       "      <td>1</td>\n",
       "      <td>0</td>\n",
       "      <td>0.674419</td>\n",
       "      <td>0.275510</td>\n",
       "      <td>0.310699</td>\n",
       "      <td>0.695652</td>\n",
       "      <td>0.166708</td>\n",
       "      <td>0.586645</td>\n",
       "    </tr>\n",
       "    <tr>\n",
       "      <th>2</th>\n",
       "      <td>1</td>\n",
       "      <td>0</td>\n",
       "      <td>0.674419</td>\n",
       "      <td>0.204082</td>\n",
       "      <td>0.208598</td>\n",
       "      <td>0.623188</td>\n",
       "      <td>0.118122</td>\n",
       "      <td>0.477859</td>\n",
       "    </tr>\n",
       "    <tr>\n",
       "      <th>3</th>\n",
       "      <td>1</td>\n",
       "      <td>0</td>\n",
       "      <td>0.627907</td>\n",
       "      <td>0.015306</td>\n",
       "      <td>0.058134</td>\n",
       "      <td>0.594203</td>\n",
       "      <td>0.151546</td>\n",
       "      <td>0.423529</td>\n",
       "    </tr>\n",
       "    <tr>\n",
       "      <th>4</th>\n",
       "      <td>1</td>\n",
       "      <td>0</td>\n",
       "      <td>0.790698</td>\n",
       "      <td>0.096939</td>\n",
       "      <td>0.064485</td>\n",
       "      <td>0.666667</td>\n",
       "      <td>0.237202</td>\n",
       "      <td>0.882353</td>\n",
       "    </tr>\n",
       "    <tr>\n",
       "      <th>...</th>\n",
       "      <td>...</td>\n",
       "      <td>...</td>\n",
       "      <td>...</td>\n",
       "      <td>...</td>\n",
       "      <td>...</td>\n",
       "      <td>...</td>\n",
       "      <td>...</td>\n",
       "      <td>...</td>\n",
       "    </tr>\n",
       "    <tr>\n",
       "      <th>578</th>\n",
       "      <td>1</td>\n",
       "      <td>0</td>\n",
       "      <td>0.651163</td>\n",
       "      <td>0.000000</td>\n",
       "      <td>0.213483</td>\n",
       "      <td>0.463768</td>\n",
       "      <td>0.182274</td>\n",
       "      <td>0.586645</td>\n",
       "    </tr>\n",
       "    <tr>\n",
       "      <th>579</th>\n",
       "      <td>1</td>\n",
       "      <td>0</td>\n",
       "      <td>0.418605</td>\n",
       "      <td>0.000000</td>\n",
       "      <td>0.017098</td>\n",
       "      <td>0.478261</td>\n",
       "      <td>0.090089</td>\n",
       "      <td>0.336898</td>\n",
       "    </tr>\n",
       "    <tr>\n",
       "      <th>580</th>\n",
       "      <td>1</td>\n",
       "      <td>0</td>\n",
       "      <td>0.558140</td>\n",
       "      <td>0.005102</td>\n",
       "      <td>0.088911</td>\n",
       "      <td>0.536232</td>\n",
       "      <td>0.105386</td>\n",
       "      <td>0.388235</td>\n",
       "    </tr>\n",
       "    <tr>\n",
       "      <th>581</th>\n",
       "      <td>1</td>\n",
       "      <td>0</td>\n",
       "      <td>0.313953</td>\n",
       "      <td>0.020408</td>\n",
       "      <td>0.059111</td>\n",
       "      <td>0.594203</td>\n",
       "      <td>0.114739</td>\n",
       "      <td>0.423529</td>\n",
       "    </tr>\n",
       "    <tr>\n",
       "      <th>582</th>\n",
       "      <td>1</td>\n",
       "      <td>0</td>\n",
       "      <td>0.395349</td>\n",
       "      <td>0.010204</td>\n",
       "      <td>0.074744</td>\n",
       "      <td>0.666667</td>\n",
       "      <td>0.119200</td>\n",
       "      <td>0.341176</td>\n",
       "    </tr>\n",
       "  </tbody>\n",
       "</table>\n",
       "<p>583 rows × 8 columns</p>\n",
       "</div>"
      ],
      "text/plain": [
       "     Male  Female       Age  Direct_bil       ALP  Ttl_Prtn   AST/ALT  \\\n",
       "0       0       1  0.709302    0.000000  0.060576  0.594203  0.117179   \n",
       "1       1       0  0.674419    0.275510  0.310699  0.695652  0.166708   \n",
       "2       1       0  0.674419    0.204082  0.208598  0.623188  0.118122   \n",
       "3       1       0  0.627907    0.015306  0.058134  0.594203  0.151546   \n",
       "4       1       0  0.790698    0.096939  0.064485  0.666667  0.237202   \n",
       "..    ...     ...       ...         ...       ...       ...       ...   \n",
       "578     1       0  0.651163    0.000000  0.213483  0.463768  0.182274   \n",
       "579     1       0  0.418605    0.000000  0.017098  0.478261  0.090089   \n",
       "580     1       0  0.558140    0.005102  0.088911  0.536232  0.105386   \n",
       "581     1       0  0.313953    0.020408  0.059111  0.594203  0.114739   \n",
       "582     1       0  0.395349    0.010204  0.074744  0.666667  0.119200   \n",
       "\n",
       "          A/G  \n",
       "0    0.470588  \n",
       "1    0.586645  \n",
       "2    0.477859  \n",
       "3    0.423529  \n",
       "4    0.882353  \n",
       "..        ...  \n",
       "578  0.586645  \n",
       "579  0.336898  \n",
       "580  0.388235  \n",
       "581  0.423529  \n",
       "582  0.341176  \n",
       "\n",
       "[583 rows x 8 columns]"
      ]
     },
     "execution_count": 49,
     "metadata": {},
     "output_type": "execute_result"
    }
   ],
   "source": [
    "temp['Age'] = x_scaled['Age']\n",
    "temp['Direct_bil'] = x_scaled['Direct_bil']\n",
    "temp['ALP'] = x_scaled['ALP']\n",
    "temp['Ttl_Prtn'] = x_scaled['Ttl_Prtn']\n",
    "temp['AST/ALT'] = x_scaled['AST/ALT']\n",
    "temp['A/G'] = x_scaled['A/G']\n",
    "temp"
   ]
  },
  {
   "cell_type": "markdown",
   "id": "b02bc28a",
   "metadata": {},
   "source": [
    "### Modeling:\n",
    "#### We will use Logistic Regression, KNN, Naive Bayes, SVM, Decision Tree, RF Classifier, XGB Classifier with hyper parameter tuning wherever possible."
   ]
  },
  {
   "cell_type": "code",
   "execution_count": 50,
   "id": "09747b56",
   "metadata": {},
   "outputs": [],
   "source": [
    "x = temp"
   ]
  },
  {
   "cell_type": "code",
   "execution_count": 51,
   "id": "9baae73b",
   "metadata": {},
   "outputs": [],
   "source": [
    "from sklearn.model_selection import train_test_split\n",
    "x_train,x_test,y_train,y_test = train_test_split(x,y,test_size=0.25,random_state=42)"
   ]
  },
  {
   "cell_type": "code",
   "execution_count": 52,
   "id": "65fad9ff",
   "metadata": {},
   "outputs": [
    {
     "data": {
      "text/plain": [
       "437"
      ]
     },
     "execution_count": 52,
     "metadata": {},
     "output_type": "execute_result"
    }
   ],
   "source": [
    "len(x_train)"
   ]
  },
  {
   "cell_type": "code",
   "execution_count": 53,
   "id": "4e3bc254",
   "metadata": {},
   "outputs": [
    {
     "data": {
      "text/plain": [
       "146"
      ]
     },
     "execution_count": 53,
     "metadata": {},
     "output_type": "execute_result"
    }
   ],
   "source": [
    "len(x_test)"
   ]
  },
  {
   "cell_type": "markdown",
   "id": "f1fcca18",
   "metadata": {},
   "source": [
    "#### Logistic Regression"
   ]
  },
  {
   "cell_type": "code",
   "execution_count": 54,
   "id": "8a40fe39",
   "metadata": {},
   "outputs": [],
   "source": [
    "Results = pd.DataFrame(index=['Accuracy','Precision','Recall','F1'])"
   ]
  },
  {
   "cell_type": "code",
   "execution_count": 55,
   "id": "7a3bc9f8",
   "metadata": {},
   "outputs": [
    {
     "name": "stdout",
     "output_type": "stream",
     "text": [
      "Accuracy:  0.7465753424657534 \n",
      "Precision:  0.75 \n",
      "Recall Score 0.9908256880733946 \n",
      "F1 Score 0.8537549407114624 \n",
      "Confusion Matrix\n",
      " [[108   1]\n",
      " [ 36   1]]\n",
      "              precision    recall  f1-score   support\n",
      "\n",
      "           1       0.75      0.99      0.85       109\n",
      "           2       0.50      0.03      0.05        37\n",
      "\n",
      "    accuracy                           0.75       146\n",
      "   macro avg       0.62      0.51      0.45       146\n",
      "weighted avg       0.69      0.75      0.65       146\n",
      "\n"
     ]
    }
   ],
   "source": [
    "from sklearn.linear_model import LogisticRegression\n",
    "from sklearn.metrics import accuracy_score, precision_score, recall_score, f1_score, confusion_matrix, classification_report\n",
    "LR = LogisticRegression()\n",
    "LR.fit(x_train,y_train)\n",
    "y_pred = LR.predict(x_test)\n",
    "\n",
    "acc = accuracy_score(y_test,y_pred)\n",
    "pr = precision_score(y_test,y_pred)\n",
    "re = recall_score(y_test,y_pred)\n",
    "f1 = f1_score(y_test,y_pred)\n",
    "cm = confusion_matrix(y_test,y_pred)\n",
    "print('Accuracy: ',acc,'\\nPrecision: ',pr,'\\nRecall Score', re,'\\nF1 Score', f1, '\\nConfusion Matrix\\n', cm)\n",
    "print(classification_report(y_test,y_pred))\n",
    "Results['LogReg w/o databalancing'] = [acc,pr,re,f1]"
   ]
  },
  {
   "cell_type": "markdown",
   "id": "6a1c389d",
   "metadata": {},
   "source": [
    "#### KNN Classifier"
   ]
  },
  {
   "cell_type": "code",
   "execution_count": 56,
   "id": "0979a0b3",
   "metadata": {},
   "outputs": [
    {
     "name": "stdout",
     "output_type": "stream",
     "text": [
      "Accuracy:  0.678082191780822 \n",
      "Precision:  0.7980769230769231 \n",
      "Recall Score 0.7614678899082569 \n",
      "F1 Score 0.7793427230046949 \n",
      "Confusion Matrix\n",
      " [[83 26]\n",
      " [21 16]]\n",
      "              precision    recall  f1-score   support\n",
      "\n",
      "           1       0.80      0.76      0.78       109\n",
      "           2       0.38      0.43      0.41        37\n",
      "\n",
      "    accuracy                           0.68       146\n",
      "   macro avg       0.59      0.60      0.59       146\n",
      "weighted avg       0.69      0.68      0.68       146\n",
      "\n"
     ]
    }
   ],
   "source": [
    "from sklearn.neighbors import KNeighborsClassifier\n",
    "KNN = KNeighborsClassifier(n_neighbors = 5)\n",
    "KNN.fit(x_train,y_train)\n",
    "y_pred = KNN.predict(x_test)\n",
    "\n",
    "acc = accuracy_score(y_test,y_pred)\n",
    "pr = precision_score(y_test,y_pred)\n",
    "re = recall_score(y_test,y_pred)\n",
    "f1 = f1_score(y_test,y_pred)\n",
    "cm = confusion_matrix(y_test,y_pred)\n",
    "print('Accuracy: ',acc,'\\nPrecision: ',pr,'\\nRecall Score', re,'\\nF1 Score', f1, '\\nConfusion Matrix\\n', cm)\n",
    "print(classification_report(y_test,y_pred))\n",
    "Results['KNN w/o databalancing'] = [acc,pr,re,f1]"
   ]
  },
  {
   "cell_type": "markdown",
   "id": "b015ecc9",
   "metadata": {},
   "source": [
    "#### Naive Bayes Classifer:"
   ]
  },
  {
   "cell_type": "code",
   "execution_count": 57,
   "id": "a04662a7",
   "metadata": {},
   "outputs": [
    {
     "name": "stdout",
     "output_type": "stream",
     "text": [
      "Accuracy:  0.7465753424657534 \n",
      "Precision:  0.7465753424657534 \n",
      "Recall Score 1.0 \n",
      "F1 Score 0.8549019607843137 \n",
      "Confusion Matrix\n",
      " [[109   0]\n",
      " [ 37   0]]\n",
      "              precision    recall  f1-score   support\n",
      "\n",
      "           1       0.75      1.00      0.85       109\n",
      "           2       0.00      0.00      0.00        37\n",
      "\n",
      "    accuracy                           0.75       146\n",
      "   macro avg       0.37      0.50      0.43       146\n",
      "weighted avg       0.56      0.75      0.64       146\n",
      "\n"
     ]
    }
   ],
   "source": [
    "from sklearn.naive_bayes import MultinomialNB\n",
    "nb = MultinomialNB()  #Creating instance\n",
    "nb.fit(x_train,y_train)\n",
    "y_pred = nb.predict(x_test)\n",
    "\n",
    "acc = accuracy_score(y_test,y_pred)\n",
    "pr = precision_score(y_test,y_pred)\n",
    "re = recall_score(y_test,y_pred)\n",
    "f1 = f1_score(y_test,y_pred)\n",
    "cm = confusion_matrix(y_test,y_pred)\n",
    "print('Accuracy: ',acc,'\\nPrecision: ',pr,'\\nRecall Score', re,'\\nF1 Score', f1, '\\nConfusion Matrix\\n', cm)\n",
    "print(classification_report(y_test,y_pred))\n",
    "Results['NB w/o databalancing'] = [acc,pr,re,f1]"
   ]
  },
  {
   "cell_type": "markdown",
   "id": "d4bcd054",
   "metadata": {},
   "source": [
    "#### Decision Tree Classifier"
   ]
  },
  {
   "cell_type": "code",
   "execution_count": 58,
   "id": "b2775a31",
   "metadata": {},
   "outputs": [
    {
     "name": "stdout",
     "output_type": "stream",
     "text": [
      "Accuracy:  0.6027397260273972 \n",
      "Precision:  0.7684210526315789 \n",
      "Recall Score 0.6697247706422018 \n",
      "F1 Score 0.7156862745098038 \n",
      "Confusion Matrix\n",
      " [[73 36]\n",
      " [22 15]]\n",
      "              precision    recall  f1-score   support\n",
      "\n",
      "           1       0.77      0.67      0.72       109\n",
      "           2       0.29      0.41      0.34        37\n",
      "\n",
      "    accuracy                           0.60       146\n",
      "   macro avg       0.53      0.54      0.53       146\n",
      "weighted avg       0.65      0.60      0.62       146\n",
      "\n"
     ]
    }
   ],
   "source": [
    "from sklearn.tree import DecisionTreeClassifier\n",
    "dt = DecisionTreeClassifier()\n",
    "dt.fit(x_train,y_train)\n",
    "y_pred=dt.predict(x_test)\n",
    "\n",
    "acc = accuracy_score(y_test,y_pred)\n",
    "pr = precision_score(y_test,y_pred)\n",
    "re = recall_score(y_test,y_pred)\n",
    "f1 = f1_score(y_test,y_pred)\n",
    "cm = confusion_matrix(y_test,y_pred)\n",
    "print('Accuracy: ',acc,'\\nPrecision: ',pr,'\\nRecall Score', re,'\\nF1 Score', f1, '\\nConfusion Matrix\\n', cm)\n",
    "print(classification_report(y_test,y_pred))\n",
    "Results['DT w/o databalancing'] = [acc,pr,re,f1]"
   ]
  },
  {
   "cell_type": "markdown",
   "id": "d4d20576",
   "metadata": {},
   "source": [
    "#### Random Forest Classifier"
   ]
  },
  {
   "cell_type": "code",
   "execution_count": 59,
   "id": "d8296bd6",
   "metadata": {},
   "outputs": [
    {
     "name": "stdout",
     "output_type": "stream",
     "text": [
      "Accuracy:  0.7123287671232876 \n",
      "Precision:  0.7815126050420168 \n",
      "Recall Score 0.8532110091743119 \n",
      "F1 Score 0.8157894736842106 \n",
      "Confusion Matrix\n",
      " [[93 16]\n",
      " [26 11]]\n",
      "              precision    recall  f1-score   support\n",
      "\n",
      "           1       0.78      0.85      0.82       109\n",
      "           2       0.41      0.30      0.34        37\n",
      "\n",
      "    accuracy                           0.71       146\n",
      "   macro avg       0.59      0.58      0.58       146\n",
      "weighted avg       0.69      0.71      0.70       146\n",
      "\n"
     ]
    }
   ],
   "source": [
    "from sklearn.ensemble import RandomForestClassifier\n",
    "rf_clf = RandomForestClassifier(n_estimators=100)\n",
    "rf_clf.fit(x_train,y_train)\n",
    "y_pred = rf_clf.predict(x_test)\n",
    "\n",
    "acc = accuracy_score(y_test,y_pred)\n",
    "pr = precision_score(y_test,y_pred)\n",
    "re = recall_score(y_test,y_pred)\n",
    "f1 = f1_score(y_test,y_pred)\n",
    "cm = confusion_matrix(y_test,y_pred)\n",
    "print('Accuracy: ',acc,'\\nPrecision: ',pr,'\\nRecall Score', re,'\\nF1 Score', f1, '\\nConfusion Matrix\\n', cm)\n",
    "print(classification_report(y_test,y_pred))\n",
    "Results['RF w/o databalancing'] = [acc,pr,re,f1]"
   ]
  },
  {
   "cell_type": "markdown",
   "id": "44bf7861",
   "metadata": {},
   "source": [
    "#### Support Vector Classifier"
   ]
  },
  {
   "cell_type": "code",
   "execution_count": 60,
   "id": "3858b2c6",
   "metadata": {},
   "outputs": [
    {
     "name": "stdout",
     "output_type": "stream",
     "text": [
      "Accuracy:  0.7465753424657534 \n",
      "Precision:  0.7465753424657534 \n",
      "Recall Score 1.0 \n",
      "F1 Score 0.8549019607843137 \n",
      "Confusion Matrix\n",
      " [[109   0]\n",
      " [ 37   0]]\n",
      "              precision    recall  f1-score   support\n",
      "\n",
      "           1       0.75      1.00      0.85       109\n",
      "           2       0.00      0.00      0.00        37\n",
      "\n",
      "    accuracy                           0.75       146\n",
      "   macro avg       0.37      0.50      0.43       146\n",
      "weighted avg       0.56      0.75      0.64       146\n",
      "\n"
     ]
    }
   ],
   "source": [
    "from sklearn.svm import SVC\n",
    "svc = SVC()\n",
    "svc.fit(x_train,y_train)\n",
    "y_pred = svc.predict(x_test)\n",
    "\n",
    "acc = accuracy_score(y_test,y_pred)\n",
    "pr = precision_score(y_test,y_pred)\n",
    "re = recall_score(y_test,y_pred)\n",
    "f1 = f1_score(y_test,y_pred)\n",
    "cm = confusion_matrix(y_test,y_pred)\n",
    "print('Accuracy: ',acc,'\\nPrecision: ',pr,'\\nRecall Score', re,'\\nF1 Score', f1, '\\nConfusion Matrix\\n', cm)\n",
    "print(classification_report(y_test,y_pred))\n",
    "Results['SVM w/o databalancing'] = [acc,pr,re,f1]"
   ]
  },
  {
   "cell_type": "markdown",
   "id": "456ba0b9",
   "metadata": {},
   "source": [
    "#### Bagging with KNN as base"
   ]
  },
  {
   "cell_type": "code",
   "execution_count": 61,
   "id": "0fe63d2a",
   "metadata": {},
   "outputs": [
    {
     "name": "stdout",
     "output_type": "stream",
     "text": [
      "Accuracy:  0.678082191780822 \n",
      "Precision:  0.7980769230769231 \n",
      "Recall Score 0.7614678899082569 \n",
      "F1 Score 0.7793427230046949 \n",
      "Confusion Matrix\n",
      " [[83 26]\n",
      " [21 16]]\n",
      "              precision    recall  f1-score   support\n",
      "\n",
      "           1       0.80      0.76      0.78       109\n",
      "           2       0.38      0.43      0.41        37\n",
      "\n",
      "    accuracy                           0.68       146\n",
      "   macro avg       0.59      0.60      0.59       146\n",
      "weighted avg       0.69      0.68      0.68       146\n",
      "\n"
     ]
    }
   ],
   "source": [
    "from sklearn.ensemble import BaggingClassifier\n",
    "model_bagg=BaggingClassifier(base_estimator=KNN,n_estimators=20)\n",
    "model_bagg.fit(x_train,y_train)  \n",
    "y_pred=model_bagg.predict(x_test)\n",
    "\n",
    "acc = accuracy_score(y_test,y_pred)\n",
    "pr = precision_score(y_test,y_pred)\n",
    "re = recall_score(y_test,y_pred)\n",
    "f1 = f1_score(y_test,y_pred)\n",
    "cm = confusion_matrix(y_test,y_pred)\n",
    "print('Accuracy: ',acc,'\\nPrecision: ',pr,'\\nRecall Score', re,'\\nF1 Score', f1, '\\nConfusion Matrix\\n', cm)\n",
    "print(classification_report(y_test,y_pred))\n",
    "Results['KNN Bagging w/o databalancing'] = [acc,pr,re,f1]"
   ]
  },
  {
   "cell_type": "markdown",
   "id": "c21b6672",
   "metadata": {},
   "source": [
    "#### Bagging with RF as base"
   ]
  },
  {
   "cell_type": "code",
   "execution_count": 62,
   "id": "50ecdbc9",
   "metadata": {},
   "outputs": [
    {
     "name": "stdout",
     "output_type": "stream",
     "text": [
      "Accuracy:  0.7671232876712328 \n",
      "Precision:  0.7906976744186046 \n",
      "Recall Score 0.9357798165137615 \n",
      "F1 Score 0.8571428571428571 \n",
      "Confusion Matrix\n",
      " [[102   7]\n",
      " [ 27  10]]\n",
      "              precision    recall  f1-score   support\n",
      "\n",
      "           1       0.79      0.94      0.86       109\n",
      "           2       0.59      0.27      0.37        37\n",
      "\n",
      "    accuracy                           0.77       146\n",
      "   macro avg       0.69      0.60      0.61       146\n",
      "weighted avg       0.74      0.77      0.73       146\n",
      "\n"
     ]
    }
   ],
   "source": [
    "from sklearn.ensemble import BaggingClassifier\n",
    "model_bagg=BaggingClassifier(base_estimator=rf_clf,n_estimators=20)\n",
    "model_bagg.fit(x_train,y_train)  \n",
    "y_pred=model_bagg.predict(x_test)\n",
    "\n",
    "acc = accuracy_score(y_test,y_pred)\n",
    "pr = precision_score(y_test,y_pred)\n",
    "re = recall_score(y_test,y_pred)\n",
    "f1 = f1_score(y_test,y_pred)\n",
    "cm = confusion_matrix(y_test,y_pred)\n",
    "print('Accuracy: ',acc,'\\nPrecision: ',pr,'\\nRecall Score', re,'\\nF1 Score', f1, '\\nConfusion Matrix\\n', cm)\n",
    "print(classification_report(y_test,y_pred))\n",
    "Results['RF Bagging w/o databalancing'] = [acc,pr,re,f1]"
   ]
  },
  {
   "cell_type": "markdown",
   "id": "d009f7a0",
   "metadata": {},
   "source": [
    "#### Gradient Boosting"
   ]
  },
  {
   "cell_type": "code",
   "execution_count": 63,
   "id": "b733a631",
   "metadata": {},
   "outputs": [
    {
     "name": "stdout",
     "output_type": "stream",
     "text": [
      "Accuracy:  0.7123287671232876 \n",
      "Precision:  0.8018018018018018 \n",
      "Recall Score 0.8165137614678899 \n",
      "F1 Score 0.8090909090909092 \n",
      "Confusion Matrix\n",
      " [[89 20]\n",
      " [22 15]]\n",
      "              precision    recall  f1-score   support\n",
      "\n",
      "           1       0.80      0.82      0.81       109\n",
      "           2       0.43      0.41      0.42        37\n",
      "\n",
      "    accuracy                           0.71       146\n",
      "   macro avg       0.62      0.61      0.61       146\n",
      "weighted avg       0.71      0.71      0.71       146\n",
      "\n"
     ]
    }
   ],
   "source": [
    "from sklearn.ensemble import GradientBoostingClassifier\n",
    "gbm=GradientBoostingClassifier() \n",
    "gbm.fit(x_train,y_train)\n",
    "y_pred=gbm.predict(x_test)\n",
    "\n",
    "acc = accuracy_score(y_test,y_pred)\n",
    "pr = precision_score(y_test,y_pred)\n",
    "re = recall_score(y_test,y_pred)\n",
    "f1 = f1_score(y_test,y_pred)\n",
    "cm = confusion_matrix(y_test,y_pred)\n",
    "print('Accuracy: ',acc,'\\nPrecision: ',pr,'\\nRecall Score', re,'\\nF1 Score', f1, '\\nConfusion Matrix\\n', cm)\n",
    "print(classification_report(y_test,y_pred))\n",
    "Results['GB w/o databalancing'] = [acc,pr,re,f1]"
   ]
  },
  {
   "cell_type": "markdown",
   "id": "4599ae36",
   "metadata": {},
   "source": [
    "### Conclusion:  The data imbalance had an effect on model performance. \n",
    "### We'll fix it with resampling and then apply the models\n",
    "\n",
    "### Minority resampling applied"
   ]
  },
  {
   "cell_type": "code",
   "execution_count": 64,
   "id": "90dc9d61",
   "metadata": {},
   "outputs": [],
   "source": [
    "#Using the scaled and encoded data, joining the result column at the end\n",
    "temp\n",
    "pd.reset_option('display.max_rows',None)"
   ]
  },
  {
   "cell_type": "code",
   "execution_count": 65,
   "id": "38974270",
   "metadata": {},
   "outputs": [
    {
     "data": {
      "text/html": [
       "<div>\n",
       "<style scoped>\n",
       "    .dataframe tbody tr th:only-of-type {\n",
       "        vertical-align: middle;\n",
       "    }\n",
       "\n",
       "    .dataframe tbody tr th {\n",
       "        vertical-align: top;\n",
       "    }\n",
       "\n",
       "    .dataframe thead th {\n",
       "        text-align: right;\n",
       "    }\n",
       "</style>\n",
       "<table border=\"1\" class=\"dataframe\">\n",
       "  <thead>\n",
       "    <tr style=\"text-align: right;\">\n",
       "      <th></th>\n",
       "      <th>Male</th>\n",
       "      <th>Female</th>\n",
       "      <th>Age</th>\n",
       "      <th>Direct_bil</th>\n",
       "      <th>ALP</th>\n",
       "      <th>Ttl_Prtn</th>\n",
       "      <th>AST/ALT</th>\n",
       "      <th>A/G</th>\n",
       "    </tr>\n",
       "  </thead>\n",
       "  <tbody>\n",
       "    <tr>\n",
       "      <th>0</th>\n",
       "      <td>0</td>\n",
       "      <td>1</td>\n",
       "      <td>0.709302</td>\n",
       "      <td>0.000000</td>\n",
       "      <td>0.060576</td>\n",
       "      <td>0.594203</td>\n",
       "      <td>0.117179</td>\n",
       "      <td>0.470588</td>\n",
       "    </tr>\n",
       "    <tr>\n",
       "      <th>1</th>\n",
       "      <td>1</td>\n",
       "      <td>0</td>\n",
       "      <td>0.674419</td>\n",
       "      <td>0.275510</td>\n",
       "      <td>0.310699</td>\n",
       "      <td>0.695652</td>\n",
       "      <td>0.166708</td>\n",
       "      <td>0.586645</td>\n",
       "    </tr>\n",
       "    <tr>\n",
       "      <th>2</th>\n",
       "      <td>1</td>\n",
       "      <td>0</td>\n",
       "      <td>0.674419</td>\n",
       "      <td>0.204082</td>\n",
       "      <td>0.208598</td>\n",
       "      <td>0.623188</td>\n",
       "      <td>0.118122</td>\n",
       "      <td>0.477859</td>\n",
       "    </tr>\n",
       "    <tr>\n",
       "      <th>3</th>\n",
       "      <td>1</td>\n",
       "      <td>0</td>\n",
       "      <td>0.627907</td>\n",
       "      <td>0.015306</td>\n",
       "      <td>0.058134</td>\n",
       "      <td>0.594203</td>\n",
       "      <td>0.151546</td>\n",
       "      <td>0.423529</td>\n",
       "    </tr>\n",
       "    <tr>\n",
       "      <th>4</th>\n",
       "      <td>1</td>\n",
       "      <td>0</td>\n",
       "      <td>0.790698</td>\n",
       "      <td>0.096939</td>\n",
       "      <td>0.064485</td>\n",
       "      <td>0.666667</td>\n",
       "      <td>0.237202</td>\n",
       "      <td>0.882353</td>\n",
       "    </tr>\n",
       "    <tr>\n",
       "      <th>...</th>\n",
       "      <td>...</td>\n",
       "      <td>...</td>\n",
       "      <td>...</td>\n",
       "      <td>...</td>\n",
       "      <td>...</td>\n",
       "      <td>...</td>\n",
       "      <td>...</td>\n",
       "      <td>...</td>\n",
       "    </tr>\n",
       "    <tr>\n",
       "      <th>576</th>\n",
       "      <td>1</td>\n",
       "      <td>0</td>\n",
       "      <td>0.325581</td>\n",
       "      <td>0.413265</td>\n",
       "      <td>0.110405</td>\n",
       "      <td>0.376812</td>\n",
       "      <td>0.145969</td>\n",
       "      <td>0.378151</td>\n",
       "    </tr>\n",
       "    <tr>\n",
       "      <th>577</th>\n",
       "      <td>1</td>\n",
       "      <td>0</td>\n",
       "      <td>0.325581</td>\n",
       "      <td>0.423469</td>\n",
       "      <td>0.062042</td>\n",
       "      <td>0.391304</td>\n",
       "      <td>0.179848</td>\n",
       "      <td>0.333333</td>\n",
       "    </tr>\n",
       "    <tr>\n",
       "      <th>579</th>\n",
       "      <td>1</td>\n",
       "      <td>0</td>\n",
       "      <td>0.418605</td>\n",
       "      <td>0.000000</td>\n",
       "      <td>0.017098</td>\n",
       "      <td>0.478261</td>\n",
       "      <td>0.090089</td>\n",
       "      <td>0.336898</td>\n",
       "    </tr>\n",
       "    <tr>\n",
       "      <th>580</th>\n",
       "      <td>1</td>\n",
       "      <td>0</td>\n",
       "      <td>0.558140</td>\n",
       "      <td>0.005102</td>\n",
       "      <td>0.088911</td>\n",
       "      <td>0.536232</td>\n",
       "      <td>0.105386</td>\n",
       "      <td>0.388235</td>\n",
       "    </tr>\n",
       "    <tr>\n",
       "      <th>581</th>\n",
       "      <td>1</td>\n",
       "      <td>0</td>\n",
       "      <td>0.313953</td>\n",
       "      <td>0.020408</td>\n",
       "      <td>0.059111</td>\n",
       "      <td>0.594203</td>\n",
       "      <td>0.114739</td>\n",
       "      <td>0.423529</td>\n",
       "    </tr>\n",
       "  </tbody>\n",
       "</table>\n",
       "<p>416 rows × 8 columns</p>\n",
       "</div>"
      ],
      "text/plain": [
       "     Male  Female       Age  Direct_bil       ALP  Ttl_Prtn   AST/ALT  \\\n",
       "0       0       1  0.709302    0.000000  0.060576  0.594203  0.117179   \n",
       "1       1       0  0.674419    0.275510  0.310699  0.695652  0.166708   \n",
       "2       1       0  0.674419    0.204082  0.208598  0.623188  0.118122   \n",
       "3       1       0  0.627907    0.015306  0.058134  0.594203  0.151546   \n",
       "4       1       0  0.790698    0.096939  0.064485  0.666667  0.237202   \n",
       "..    ...     ...       ...         ...       ...       ...       ...   \n",
       "576     1       0  0.325581    0.413265  0.110405  0.376812  0.145969   \n",
       "577     1       0  0.325581    0.423469  0.062042  0.391304  0.179848   \n",
       "579     1       0  0.418605    0.000000  0.017098  0.478261  0.090089   \n",
       "580     1       0  0.558140    0.005102  0.088911  0.536232  0.105386   \n",
       "581     1       0  0.313953    0.020408  0.059111  0.594203  0.114739   \n",
       "\n",
       "          A/G  \n",
       "0    0.470588  \n",
       "1    0.586645  \n",
       "2    0.477859  \n",
       "3    0.423529  \n",
       "4    0.882353  \n",
       "..        ...  \n",
       "576  0.378151  \n",
       "577  0.333333  \n",
       "579  0.336898  \n",
       "580  0.388235  \n",
       "581  0.423529  \n",
       "\n",
       "[416 rows x 8 columns]"
      ]
     },
     "execution_count": 65,
     "metadata": {},
     "output_type": "execute_result"
    }
   ],
   "source": [
    "temp.loc[data.Result==1]"
   ]
  },
  {
   "cell_type": "code",
   "execution_count": 66,
   "id": "05636f7d",
   "metadata": {},
   "outputs": [
    {
     "data": {
      "text/html": [
       "<div>\n",
       "<style scoped>\n",
       "    .dataframe tbody tr th:only-of-type {\n",
       "        vertical-align: middle;\n",
       "    }\n",
       "\n",
       "    .dataframe tbody tr th {\n",
       "        vertical-align: top;\n",
       "    }\n",
       "\n",
       "    .dataframe thead th {\n",
       "        text-align: right;\n",
       "    }\n",
       "</style>\n",
       "<table border=\"1\" class=\"dataframe\">\n",
       "  <thead>\n",
       "    <tr style=\"text-align: right;\">\n",
       "      <th></th>\n",
       "      <th>Male</th>\n",
       "      <th>Female</th>\n",
       "      <th>Age</th>\n",
       "      <th>Direct_bil</th>\n",
       "      <th>ALP</th>\n",
       "      <th>Ttl_Prtn</th>\n",
       "      <th>AST/ALT</th>\n",
       "      <th>A/G</th>\n",
       "    </tr>\n",
       "  </thead>\n",
       "  <tbody>\n",
       "    <tr>\n",
       "      <th>8</th>\n",
       "      <td>1</td>\n",
       "      <td>0</td>\n",
       "      <td>0.151163</td>\n",
       "      <td>0.010204</td>\n",
       "      <td>0.067904</td>\n",
       "      <td>0.681159</td>\n",
       "      <td>0.087589</td>\n",
       "      <td>0.426471</td>\n",
       "    </tr>\n",
       "    <tr>\n",
       "      <th>12</th>\n",
       "      <td>1</td>\n",
       "      <td>0</td>\n",
       "      <td>0.697674</td>\n",
       "      <td>0.010204</td>\n",
       "      <td>0.120664</td>\n",
       "      <td>0.623188</td>\n",
       "      <td>0.097460</td>\n",
       "      <td>0.490196</td>\n",
       "    </tr>\n",
       "    <tr>\n",
       "      <th>15</th>\n",
       "      <td>1</td>\n",
       "      <td>0</td>\n",
       "      <td>0.244186</td>\n",
       "      <td>0.000000</td>\n",
       "      <td>0.058622</td>\n",
       "      <td>0.405797</td>\n",
       "      <td>0.055753</td>\n",
       "      <td>0.403361</td>\n",
       "    </tr>\n",
       "    <tr>\n",
       "      <th>17</th>\n",
       "      <td>1</td>\n",
       "      <td>0</td>\n",
       "      <td>0.337209</td>\n",
       "      <td>0.020408</td>\n",
       "      <td>0.049829</td>\n",
       "      <td>0.666667</td>\n",
       "      <td>0.163406</td>\n",
       "      <td>0.494885</td>\n",
       "    </tr>\n",
       "    <tr>\n",
       "      <th>24</th>\n",
       "      <td>1</td>\n",
       "      <td>0</td>\n",
       "      <td>0.686047</td>\n",
       "      <td>0.005102</td>\n",
       "      <td>0.063996</td>\n",
       "      <td>0.478261</td>\n",
       "      <td>0.087787</td>\n",
       "      <td>0.195548</td>\n",
       "    </tr>\n",
       "    <tr>\n",
       "      <th>...</th>\n",
       "      <td>...</td>\n",
       "      <td>...</td>\n",
       "      <td>...</td>\n",
       "      <td>...</td>\n",
       "      <td>...</td>\n",
       "      <td>...</td>\n",
       "      <td>...</td>\n",
       "      <td>...</td>\n",
       "    </tr>\n",
       "    <tr>\n",
       "      <th>551</th>\n",
       "      <td>1</td>\n",
       "      <td>0</td>\n",
       "      <td>0.290698</td>\n",
       "      <td>0.015306</td>\n",
       "      <td>0.047386</td>\n",
       "      <td>0.507246</td>\n",
       "      <td>0.114348</td>\n",
       "      <td>0.411765</td>\n",
       "    </tr>\n",
       "    <tr>\n",
       "      <th>564</th>\n",
       "      <td>0</td>\n",
       "      <td>1</td>\n",
       "      <td>0.395349</td>\n",
       "      <td>0.000000</td>\n",
       "      <td>0.049829</td>\n",
       "      <td>0.463768</td>\n",
       "      <td>0.164778</td>\n",
       "      <td>0.392157</td>\n",
       "    </tr>\n",
       "    <tr>\n",
       "      <th>566</th>\n",
       "      <td>0</td>\n",
       "      <td>1</td>\n",
       "      <td>0.534884</td>\n",
       "      <td>0.010204</td>\n",
       "      <td>0.062531</td>\n",
       "      <td>0.739130</td>\n",
       "      <td>0.149340</td>\n",
       "      <td>0.529412</td>\n",
       "    </tr>\n",
       "    <tr>\n",
       "      <th>578</th>\n",
       "      <td>1</td>\n",
       "      <td>0</td>\n",
       "      <td>0.651163</td>\n",
       "      <td>0.000000</td>\n",
       "      <td>0.213483</td>\n",
       "      <td>0.463768</td>\n",
       "      <td>0.182274</td>\n",
       "      <td>0.586645</td>\n",
       "    </tr>\n",
       "    <tr>\n",
       "      <th>582</th>\n",
       "      <td>1</td>\n",
       "      <td>0</td>\n",
       "      <td>0.395349</td>\n",
       "      <td>0.010204</td>\n",
       "      <td>0.074744</td>\n",
       "      <td>0.666667</td>\n",
       "      <td>0.119200</td>\n",
       "      <td>0.341176</td>\n",
       "    </tr>\n",
       "  </tbody>\n",
       "</table>\n",
       "<p>167 rows × 8 columns</p>\n",
       "</div>"
      ],
      "text/plain": [
       "     Male  Female       Age  Direct_bil       ALP  Ttl_Prtn   AST/ALT  \\\n",
       "8       1       0  0.151163    0.010204  0.067904  0.681159  0.087589   \n",
       "12      1       0  0.697674    0.010204  0.120664  0.623188  0.097460   \n",
       "15      1       0  0.244186    0.000000  0.058622  0.405797  0.055753   \n",
       "17      1       0  0.337209    0.020408  0.049829  0.666667  0.163406   \n",
       "24      1       0  0.686047    0.005102  0.063996  0.478261  0.087787   \n",
       "..    ...     ...       ...         ...       ...       ...       ...   \n",
       "551     1       0  0.290698    0.015306  0.047386  0.507246  0.114348   \n",
       "564     0       1  0.395349    0.000000  0.049829  0.463768  0.164778   \n",
       "566     0       1  0.534884    0.010204  0.062531  0.739130  0.149340   \n",
       "578     1       0  0.651163    0.000000  0.213483  0.463768  0.182274   \n",
       "582     1       0  0.395349    0.010204  0.074744  0.666667  0.119200   \n",
       "\n",
       "          A/G  \n",
       "8    0.426471  \n",
       "12   0.490196  \n",
       "15   0.403361  \n",
       "17   0.494885  \n",
       "24   0.195548  \n",
       "..        ...  \n",
       "551  0.411765  \n",
       "564  0.392157  \n",
       "566  0.529412  \n",
       "578  0.586645  \n",
       "582  0.341176  \n",
       "\n",
       "[167 rows x 8 columns]"
      ]
     },
     "execution_count": 66,
     "metadata": {},
     "output_type": "execute_result"
    }
   ],
   "source": [
    "temp.loc[data.Result==2]"
   ]
  },
  {
   "cell_type": "code",
   "execution_count": 67,
   "id": "007daeab",
   "metadata": {},
   "outputs": [],
   "source": [
    "temp1 = temp\n",
    "temp1['Result'] = data.Result"
   ]
  },
  {
   "cell_type": "code",
   "execution_count": 68,
   "id": "304d7ad8",
   "metadata": {},
   "outputs": [],
   "source": [
    "#Minority resampling technique from sklearn\n",
    "from sklearn.utils import resample\n",
    "data_pos = temp1.loc[temp1.Result==1]\n",
    "data_neg = temp1.loc[temp1.Result==2]\n",
    "data_neg_upsampled = resample(data_neg,replace=True,n_samples=416,random_state=42)\n",
    "data2 = pd.concat([data_neg_upsampled, data_pos])"
   ]
  },
  {
   "cell_type": "code",
   "execution_count": 69,
   "id": "ef51ce56",
   "metadata": {},
   "outputs": [
    {
     "data": {
      "text/html": [
       "<div>\n",
       "<style scoped>\n",
       "    .dataframe tbody tr th:only-of-type {\n",
       "        vertical-align: middle;\n",
       "    }\n",
       "\n",
       "    .dataframe tbody tr th {\n",
       "        vertical-align: top;\n",
       "    }\n",
       "\n",
       "    .dataframe thead th {\n",
       "        text-align: right;\n",
       "    }\n",
       "</style>\n",
       "<table border=\"1\" class=\"dataframe\">\n",
       "  <thead>\n",
       "    <tr style=\"text-align: right;\">\n",
       "      <th></th>\n",
       "      <th>Male</th>\n",
       "      <th>Female</th>\n",
       "      <th>Age</th>\n",
       "      <th>Direct_bil</th>\n",
       "      <th>ALP</th>\n",
       "      <th>Ttl_Prtn</th>\n",
       "      <th>AST/ALT</th>\n",
       "      <th>A/G</th>\n",
       "      <th>Result</th>\n",
       "    </tr>\n",
       "  </thead>\n",
       "  <tbody>\n",
       "    <tr>\n",
       "      <th>364</th>\n",
       "      <td>1</td>\n",
       "      <td>0</td>\n",
       "      <td>0.197674</td>\n",
       "      <td>0.005102</td>\n",
       "      <td>0.058622</td>\n",
       "      <td>0.594203</td>\n",
       "      <td>0.185362</td>\n",
       "      <td>0.441176</td>\n",
       "      <td>2</td>\n",
       "    </tr>\n",
       "    <tr>\n",
       "      <th>329</th>\n",
       "      <td>1</td>\n",
       "      <td>0</td>\n",
       "      <td>0.197674</td>\n",
       "      <td>0.005102</td>\n",
       "      <td>0.072301</td>\n",
       "      <td>0.666667</td>\n",
       "      <td>0.175805</td>\n",
       "      <td>0.426471</td>\n",
       "      <td>2</td>\n",
       "    </tr>\n",
       "    <tr>\n",
       "      <th>45</th>\n",
       "      <td>1</td>\n",
       "      <td>0</td>\n",
       "      <td>0.360465</td>\n",
       "      <td>0.025510</td>\n",
       "      <td>0.103566</td>\n",
       "      <td>0.550725</td>\n",
       "      <td>0.409638</td>\n",
       "      <td>0.450980</td>\n",
       "      <td>2</td>\n",
       "    </tr>\n",
       "    <tr>\n",
       "      <th>371</th>\n",
       "      <td>1</td>\n",
       "      <td>0</td>\n",
       "      <td>0.337209</td>\n",
       "      <td>0.005102</td>\n",
       "      <td>0.035173</td>\n",
       "      <td>0.652174</td>\n",
       "      <td>0.099254</td>\n",
       "      <td>0.341176</td>\n",
       "      <td>2</td>\n",
       "    </tr>\n",
       "    <tr>\n",
       "      <th>276</th>\n",
       "      <td>1</td>\n",
       "      <td>0</td>\n",
       "      <td>0.360465</td>\n",
       "      <td>0.005102</td>\n",
       "      <td>0.062042</td>\n",
       "      <td>0.536232</td>\n",
       "      <td>0.080385</td>\n",
       "      <td>0.352941</td>\n",
       "      <td>2</td>\n",
       "    </tr>\n",
       "    <tr>\n",
       "      <th>...</th>\n",
       "      <td>...</td>\n",
       "      <td>...</td>\n",
       "      <td>...</td>\n",
       "      <td>...</td>\n",
       "      <td>...</td>\n",
       "      <td>...</td>\n",
       "      <td>...</td>\n",
       "      <td>...</td>\n",
       "      <td>...</td>\n",
       "    </tr>\n",
       "    <tr>\n",
       "      <th>576</th>\n",
       "      <td>1</td>\n",
       "      <td>0</td>\n",
       "      <td>0.325581</td>\n",
       "      <td>0.413265</td>\n",
       "      <td>0.110405</td>\n",
       "      <td>0.376812</td>\n",
       "      <td>0.145969</td>\n",
       "      <td>0.378151</td>\n",
       "      <td>1</td>\n",
       "    </tr>\n",
       "    <tr>\n",
       "      <th>577</th>\n",
       "      <td>1</td>\n",
       "      <td>0</td>\n",
       "      <td>0.325581</td>\n",
       "      <td>0.423469</td>\n",
       "      <td>0.062042</td>\n",
       "      <td>0.391304</td>\n",
       "      <td>0.179848</td>\n",
       "      <td>0.333333</td>\n",
       "      <td>1</td>\n",
       "    </tr>\n",
       "    <tr>\n",
       "      <th>579</th>\n",
       "      <td>1</td>\n",
       "      <td>0</td>\n",
       "      <td>0.418605</td>\n",
       "      <td>0.000000</td>\n",
       "      <td>0.017098</td>\n",
       "      <td>0.478261</td>\n",
       "      <td>0.090089</td>\n",
       "      <td>0.336898</td>\n",
       "      <td>1</td>\n",
       "    </tr>\n",
       "    <tr>\n",
       "      <th>580</th>\n",
       "      <td>1</td>\n",
       "      <td>0</td>\n",
       "      <td>0.558140</td>\n",
       "      <td>0.005102</td>\n",
       "      <td>0.088911</td>\n",
       "      <td>0.536232</td>\n",
       "      <td>0.105386</td>\n",
       "      <td>0.388235</td>\n",
       "      <td>1</td>\n",
       "    </tr>\n",
       "    <tr>\n",
       "      <th>581</th>\n",
       "      <td>1</td>\n",
       "      <td>0</td>\n",
       "      <td>0.313953</td>\n",
       "      <td>0.020408</td>\n",
       "      <td>0.059111</td>\n",
       "      <td>0.594203</td>\n",
       "      <td>0.114739</td>\n",
       "      <td>0.423529</td>\n",
       "      <td>1</td>\n",
       "    </tr>\n",
       "  </tbody>\n",
       "</table>\n",
       "<p>832 rows × 9 columns</p>\n",
       "</div>"
      ],
      "text/plain": [
       "     Male  Female       Age  Direct_bil       ALP  Ttl_Prtn   AST/ALT  \\\n",
       "364     1       0  0.197674    0.005102  0.058622  0.594203  0.185362   \n",
       "329     1       0  0.197674    0.005102  0.072301  0.666667  0.175805   \n",
       "45      1       0  0.360465    0.025510  0.103566  0.550725  0.409638   \n",
       "371     1       0  0.337209    0.005102  0.035173  0.652174  0.099254   \n",
       "276     1       0  0.360465    0.005102  0.062042  0.536232  0.080385   \n",
       "..    ...     ...       ...         ...       ...       ...       ...   \n",
       "576     1       0  0.325581    0.413265  0.110405  0.376812  0.145969   \n",
       "577     1       0  0.325581    0.423469  0.062042  0.391304  0.179848   \n",
       "579     1       0  0.418605    0.000000  0.017098  0.478261  0.090089   \n",
       "580     1       0  0.558140    0.005102  0.088911  0.536232  0.105386   \n",
       "581     1       0  0.313953    0.020408  0.059111  0.594203  0.114739   \n",
       "\n",
       "          A/G  Result  \n",
       "364  0.441176       2  \n",
       "329  0.426471       2  \n",
       "45   0.450980       2  \n",
       "371  0.341176       2  \n",
       "276  0.352941       2  \n",
       "..        ...     ...  \n",
       "576  0.378151       1  \n",
       "577  0.333333       1  \n",
       "579  0.336898       1  \n",
       "580  0.388235       1  \n",
       "581  0.423529       1  \n",
       "\n",
       "[832 rows x 9 columns]"
      ]
     },
     "execution_count": 69,
     "metadata": {},
     "output_type": "execute_result"
    }
   ],
   "source": [
    "data2"
   ]
  },
  {
   "cell_type": "code",
   "execution_count": 70,
   "id": "b7859af3",
   "metadata": {},
   "outputs": [
    {
     "data": {
      "text/html": [
       "<div>\n",
       "<style scoped>\n",
       "    .dataframe tbody tr th:only-of-type {\n",
       "        vertical-align: middle;\n",
       "    }\n",
       "\n",
       "    .dataframe tbody tr th {\n",
       "        vertical-align: top;\n",
       "    }\n",
       "\n",
       "    .dataframe thead th {\n",
       "        text-align: right;\n",
       "    }\n",
       "</style>\n",
       "<table border=\"1\" class=\"dataframe\">\n",
       "  <thead>\n",
       "    <tr style=\"text-align: right;\">\n",
       "      <th></th>\n",
       "      <th>Male</th>\n",
       "      <th>Female</th>\n",
       "      <th>Age</th>\n",
       "      <th>Direct_bil</th>\n",
       "      <th>ALP</th>\n",
       "      <th>Ttl_Prtn</th>\n",
       "      <th>AST/ALT</th>\n",
       "      <th>A/G</th>\n",
       "      <th>Result</th>\n",
       "    </tr>\n",
       "  </thead>\n",
       "  <tbody>\n",
       "    <tr>\n",
       "      <th>0</th>\n",
       "      <td>1</td>\n",
       "      <td>0</td>\n",
       "      <td>0.197674</td>\n",
       "      <td>0.005102</td>\n",
       "      <td>0.058622</td>\n",
       "      <td>0.594203</td>\n",
       "      <td>0.185362</td>\n",
       "      <td>0.441176</td>\n",
       "      <td>2</td>\n",
       "    </tr>\n",
       "    <tr>\n",
       "      <th>1</th>\n",
       "      <td>1</td>\n",
       "      <td>0</td>\n",
       "      <td>0.197674</td>\n",
       "      <td>0.005102</td>\n",
       "      <td>0.072301</td>\n",
       "      <td>0.666667</td>\n",
       "      <td>0.175805</td>\n",
       "      <td>0.426471</td>\n",
       "      <td>2</td>\n",
       "    </tr>\n",
       "    <tr>\n",
       "      <th>2</th>\n",
       "      <td>1</td>\n",
       "      <td>0</td>\n",
       "      <td>0.360465</td>\n",
       "      <td>0.025510</td>\n",
       "      <td>0.103566</td>\n",
       "      <td>0.550725</td>\n",
       "      <td>0.409638</td>\n",
       "      <td>0.450980</td>\n",
       "      <td>2</td>\n",
       "    </tr>\n",
       "    <tr>\n",
       "      <th>3</th>\n",
       "      <td>1</td>\n",
       "      <td>0</td>\n",
       "      <td>0.337209</td>\n",
       "      <td>0.005102</td>\n",
       "      <td>0.035173</td>\n",
       "      <td>0.652174</td>\n",
       "      <td>0.099254</td>\n",
       "      <td>0.341176</td>\n",
       "      <td>2</td>\n",
       "    </tr>\n",
       "    <tr>\n",
       "      <th>4</th>\n",
       "      <td>1</td>\n",
       "      <td>0</td>\n",
       "      <td>0.360465</td>\n",
       "      <td>0.005102</td>\n",
       "      <td>0.062042</td>\n",
       "      <td>0.536232</td>\n",
       "      <td>0.080385</td>\n",
       "      <td>0.352941</td>\n",
       "      <td>2</td>\n",
       "    </tr>\n",
       "    <tr>\n",
       "      <th>...</th>\n",
       "      <td>...</td>\n",
       "      <td>...</td>\n",
       "      <td>...</td>\n",
       "      <td>...</td>\n",
       "      <td>...</td>\n",
       "      <td>...</td>\n",
       "      <td>...</td>\n",
       "      <td>...</td>\n",
       "      <td>...</td>\n",
       "    </tr>\n",
       "    <tr>\n",
       "      <th>827</th>\n",
       "      <td>1</td>\n",
       "      <td>0</td>\n",
       "      <td>0.325581</td>\n",
       "      <td>0.413265</td>\n",
       "      <td>0.110405</td>\n",
       "      <td>0.376812</td>\n",
       "      <td>0.145969</td>\n",
       "      <td>0.378151</td>\n",
       "      <td>1</td>\n",
       "    </tr>\n",
       "    <tr>\n",
       "      <th>828</th>\n",
       "      <td>1</td>\n",
       "      <td>0</td>\n",
       "      <td>0.325581</td>\n",
       "      <td>0.423469</td>\n",
       "      <td>0.062042</td>\n",
       "      <td>0.391304</td>\n",
       "      <td>0.179848</td>\n",
       "      <td>0.333333</td>\n",
       "      <td>1</td>\n",
       "    </tr>\n",
       "    <tr>\n",
       "      <th>829</th>\n",
       "      <td>1</td>\n",
       "      <td>0</td>\n",
       "      <td>0.418605</td>\n",
       "      <td>0.000000</td>\n",
       "      <td>0.017098</td>\n",
       "      <td>0.478261</td>\n",
       "      <td>0.090089</td>\n",
       "      <td>0.336898</td>\n",
       "      <td>1</td>\n",
       "    </tr>\n",
       "    <tr>\n",
       "      <th>830</th>\n",
       "      <td>1</td>\n",
       "      <td>0</td>\n",
       "      <td>0.558140</td>\n",
       "      <td>0.005102</td>\n",
       "      <td>0.088911</td>\n",
       "      <td>0.536232</td>\n",
       "      <td>0.105386</td>\n",
       "      <td>0.388235</td>\n",
       "      <td>1</td>\n",
       "    </tr>\n",
       "    <tr>\n",
       "      <th>831</th>\n",
       "      <td>1</td>\n",
       "      <td>0</td>\n",
       "      <td>0.313953</td>\n",
       "      <td>0.020408</td>\n",
       "      <td>0.059111</td>\n",
       "      <td>0.594203</td>\n",
       "      <td>0.114739</td>\n",
       "      <td>0.423529</td>\n",
       "      <td>1</td>\n",
       "    </tr>\n",
       "  </tbody>\n",
       "</table>\n",
       "<p>832 rows × 9 columns</p>\n",
       "</div>"
      ],
      "text/plain": [
       "     Male  Female       Age  Direct_bil       ALP  Ttl_Prtn   AST/ALT  \\\n",
       "0       1       0  0.197674    0.005102  0.058622  0.594203  0.185362   \n",
       "1       1       0  0.197674    0.005102  0.072301  0.666667  0.175805   \n",
       "2       1       0  0.360465    0.025510  0.103566  0.550725  0.409638   \n",
       "3       1       0  0.337209    0.005102  0.035173  0.652174  0.099254   \n",
       "4       1       0  0.360465    0.005102  0.062042  0.536232  0.080385   \n",
       "..    ...     ...       ...         ...       ...       ...       ...   \n",
       "827     1       0  0.325581    0.413265  0.110405  0.376812  0.145969   \n",
       "828     1       0  0.325581    0.423469  0.062042  0.391304  0.179848   \n",
       "829     1       0  0.418605    0.000000  0.017098  0.478261  0.090089   \n",
       "830     1       0  0.558140    0.005102  0.088911  0.536232  0.105386   \n",
       "831     1       0  0.313953    0.020408  0.059111  0.594203  0.114739   \n",
       "\n",
       "          A/G  Result  \n",
       "0    0.441176       2  \n",
       "1    0.426471       2  \n",
       "2    0.450980       2  \n",
       "3    0.341176       2  \n",
       "4    0.352941       2  \n",
       "..        ...     ...  \n",
       "827  0.378151       1  \n",
       "828  0.333333       1  \n",
       "829  0.336898       1  \n",
       "830  0.388235       1  \n",
       "831  0.423529       1  \n",
       "\n",
       "[832 rows x 9 columns]"
      ]
     },
     "execution_count": 70,
     "metadata": {},
     "output_type": "execute_result"
    }
   ],
   "source": [
    "data2.reset_index(drop=True)"
   ]
  },
  {
   "cell_type": "code",
   "execution_count": 71,
   "id": "225d3b5e",
   "metadata": {},
   "outputs": [],
   "source": [
    "#Using same variables to enable copy paste\n",
    "x = data2.drop('Result',axis=1)\n",
    "y = data2.Result"
   ]
  },
  {
   "cell_type": "code",
   "execution_count": 72,
   "id": "f2bc22df",
   "metadata": {},
   "outputs": [],
   "source": [
    "from sklearn.model_selection import train_test_split\n",
    "x_train,x_test,y_train,y_test = train_test_split(x,y,test_size=0.25,random_state=42)"
   ]
  },
  {
   "cell_type": "markdown",
   "id": "ed3a624b",
   "metadata": {},
   "source": [
    "#### Logistic Regression"
   ]
  },
  {
   "cell_type": "code",
   "execution_count": 73,
   "id": "22589126",
   "metadata": {},
   "outputs": [
    {
     "name": "stdout",
     "output_type": "stream",
     "text": [
      "Accuracy:  0.6826923076923077 \n",
      "Precision:  0.7922077922077922 \n",
      "Recall Score 0.5495495495495496 \n",
      "F1 Score 0.6489361702127661 \n",
      "Confusion Matrix\n",
      " [[61 50]\n",
      " [16 81]]\n",
      "              precision    recall  f1-score   support\n",
      "\n",
      "           1       0.79      0.55      0.65       111\n",
      "           2       0.62      0.84      0.71        97\n",
      "\n",
      "    accuracy                           0.68       208\n",
      "   macro avg       0.71      0.69      0.68       208\n",
      "weighted avg       0.71      0.68      0.68       208\n",
      "\n"
     ]
    }
   ],
   "source": [
    "from sklearn.linear_model import LogisticRegression\n",
    "from sklearn.metrics import accuracy_score, precision_score, recall_score, f1_score, confusion_matrix, classification_report\n",
    "LR = LogisticRegression()\n",
    "LR.fit(x_train,y_train)\n",
    "y_pred = LR.predict(x_test)\n",
    "\n",
    "acc = accuracy_score(y_test,y_pred)\n",
    "pr = precision_score(y_test,y_pred)\n",
    "re = recall_score(y_test,y_pred)\n",
    "f1 = f1_score(y_test,y_pred)\n",
    "cm = confusion_matrix(y_test,y_pred)\n",
    "print('Accuracy: ',acc,'\\nPrecision: ',pr,'\\nRecall Score', re,'\\nF1 Score', f1, '\\nConfusion Matrix\\n', cm)\n",
    "print(classification_report(y_test,y_pred))\n",
    "Results['LogReg with databalancing'] = [acc,pr,re,f1]"
   ]
  },
  {
   "cell_type": "code",
   "execution_count": 74,
   "id": "182c7ec0",
   "metadata": {},
   "outputs": [
    {
     "name": "stdout",
     "output_type": "stream",
     "text": [
      "Accuracy:  0.6923076923076923 \n",
      "Precision:  0.7526881720430108 \n",
      "Recall Score 0.6306306306306306 \n",
      "F1 Score 0.6862745098039216 \n",
      "Confusion Matrix\n",
      " [[70 41]\n",
      " [23 74]]\n",
      "              precision    recall  f1-score   support\n",
      "\n",
      "           1       0.75      0.63      0.69       111\n",
      "           2       0.64      0.76      0.70        97\n",
      "\n",
      "    accuracy                           0.69       208\n",
      "   macro avg       0.70      0.70      0.69       208\n",
      "weighted avg       0.70      0.69      0.69       208\n",
      "\n"
     ]
    }
   ],
   "source": [
    "#KNN\n",
    "from sklearn.neighbors import KNeighborsClassifier\n",
    "KNN = KNeighborsClassifier(n_neighbors = 5)\n",
    "KNN.fit(x_train,y_train)\n",
    "y_pred = KNN.predict(x_test)\n",
    "\n",
    "acc = accuracy_score(y_test,y_pred)\n",
    "pr = precision_score(y_test,y_pred)\n",
    "re = recall_score(y_test,y_pred)\n",
    "f1 = f1_score(y_test,y_pred)\n",
    "cm = confusion_matrix(y_test,y_pred)\n",
    "print('Accuracy: ',acc,'\\nPrecision: ',pr,'\\nRecall Score', re,'\\nF1 Score', f1, '\\nConfusion Matrix\\n', cm)\n",
    "print(classification_report(y_test,y_pred))\n",
    "Results['KNN with databalancing'] = [acc,pr,re,f1]"
   ]
  },
  {
   "cell_type": "code",
   "execution_count": 75,
   "id": "e230f3fe",
   "metadata": {},
   "outputs": [
    {
     "name": "stdout",
     "output_type": "stream",
     "text": [
      "Accuracy:  0.8653846153846154 \n",
      "Precision:  0.9108910891089109 \n",
      "Recall Score 0.8288288288288288 \n",
      "F1 Score 0.8679245283018868 \n",
      "Confusion Matrix\n",
      " [[92 19]\n",
      " [ 9 88]]\n",
      "              precision    recall  f1-score   support\n",
      "\n",
      "           1       0.91      0.83      0.87       111\n",
      "           2       0.82      0.91      0.86        97\n",
      "\n",
      "    accuracy                           0.87       208\n",
      "   macro avg       0.87      0.87      0.87       208\n",
      "weighted avg       0.87      0.87      0.87       208\n",
      "\n"
     ]
    }
   ],
   "source": [
    "#Rf_clf\n",
    "from sklearn.ensemble import RandomForestClassifier\n",
    "rf_clf = RandomForestClassifier(n_estimators=100)\n",
    "rf_clf.fit(x_train,y_train)\n",
    "y_pred = rf_clf.predict(x_test)\n",
    "\n",
    "acc = accuracy_score(y_test,y_pred)\n",
    "pr = precision_score(y_test,y_pred)\n",
    "re = recall_score(y_test,y_pred)\n",
    "f1 = f1_score(y_test,y_pred)\n",
    "cm = confusion_matrix(y_test,y_pred)\n",
    "print('Accuracy: ',acc,'\\nPrecision: ',pr,'\\nRecall Score', re,'\\nF1 Score', f1, '\\nConfusion Matrix\\n', cm)\n",
    "print(classification_report(y_test,y_pred))\n",
    "Results['RF with databalancing'] = [acc,pr,re,f1]"
   ]
  },
  {
   "cell_type": "code",
   "execution_count": 76,
   "id": "059df355",
   "metadata": {},
   "outputs": [
    {
     "name": "stdout",
     "output_type": "stream",
     "text": [
      "Accuracy:  0.7067307692307693 \n",
      "Precision:  0.7976190476190477 \n",
      "Recall Score 0.6036036036036037 \n",
      "F1 Score 0.6871794871794872 \n",
      "Confusion Matrix\n",
      " [[67 44]\n",
      " [17 80]]\n",
      "              precision    recall  f1-score   support\n",
      "\n",
      "           1       0.80      0.60      0.69       111\n",
      "           2       0.65      0.82      0.72        97\n",
      "\n",
      "    accuracy                           0.71       208\n",
      "   macro avg       0.72      0.71      0.71       208\n",
      "weighted avg       0.73      0.71      0.70       208\n",
      "\n"
     ]
    }
   ],
   "source": [
    "#Bagging with KNN as base\n",
    "from sklearn.ensemble import BaggingClassifier\n",
    "model_bagg=BaggingClassifier(base_estimator=KNN,n_estimators=20)\n",
    "model_bagg.fit(x_train,y_train)  \n",
    "y_pred=model_bagg.predict(x_test)\n",
    "\n",
    "acc = accuracy_score(y_test,y_pred)\n",
    "pr = precision_score(y_test,y_pred)\n",
    "re = recall_score(y_test,y_pred)\n",
    "f1 = f1_score(y_test,y_pred)\n",
    "cm = confusion_matrix(y_test,y_pred)\n",
    "print('Accuracy: ',acc,'\\nPrecision: ',pr,'\\nRecall Score', re,'\\nF1 Score', f1, '\\nConfusion Matrix\\n', cm)\n",
    "print(classification_report(y_test,y_pred))\n",
    "Results['KNN Bagg with databalancing'] = [acc,pr,re,f1]"
   ]
  },
  {
   "cell_type": "code",
   "execution_count": 77,
   "id": "e3f6f02e",
   "metadata": {},
   "outputs": [
    {
     "name": "stdout",
     "output_type": "stream",
     "text": [
      "Accuracy:  0.8461538461538461 \n",
      "Precision:  0.9157894736842105 \n",
      "Recall Score 0.7837837837837838 \n",
      "F1 Score 0.8446601941747574 \n",
      "Confusion Matrix\n",
      " [[87 24]\n",
      " [ 8 89]]\n",
      "              precision    recall  f1-score   support\n",
      "\n",
      "           1       0.92      0.78      0.84       111\n",
      "           2       0.79      0.92      0.85        97\n",
      "\n",
      "    accuracy                           0.85       208\n",
      "   macro avg       0.85      0.85      0.85       208\n",
      "weighted avg       0.86      0.85      0.85       208\n",
      "\n"
     ]
    }
   ],
   "source": [
    "#Gradient Boosting\n",
    "from sklearn.ensemble import GradientBoostingClassifier\n",
    "gbm=GradientBoostingClassifier() \n",
    "gbm.fit(x_train,y_train)\n",
    "y_pred=gbm.predict(x_test)\n",
    "\n",
    "acc = accuracy_score(y_test,y_pred)\n",
    "pr = precision_score(y_test,y_pred)\n",
    "re = recall_score(y_test,y_pred)\n",
    "f1 = f1_score(y_test,y_pred)\n",
    "cm = confusion_matrix(y_test,y_pred)\n",
    "print('Accuracy: ',acc,'\\nPrecision: ',pr,'\\nRecall Score', re,'\\nF1 Score', f1, '\\nConfusion Matrix\\n', cm)\n",
    "print(classification_report(y_test,y_pred))\n",
    "Results['GB with databalancing'] = [acc,pr,re,f1]"
   ]
  },
  {
   "cell_type": "code",
   "execution_count": 78,
   "id": "be660ded",
   "metadata": {},
   "outputs": [],
   "source": [
    "#Classes for XGB should be 0 and 1\n",
    "x = data2.drop('Result',axis=1)\n",
    "y = data2.Result.map({2:0,1:1})"
   ]
  },
  {
   "cell_type": "code",
   "execution_count": 79,
   "id": "7810d1ce",
   "metadata": {},
   "outputs": [
    {
     "data": {
      "text/html": [
       "<div>\n",
       "<style scoped>\n",
       "    .dataframe tbody tr th:only-of-type {\n",
       "        vertical-align: middle;\n",
       "    }\n",
       "\n",
       "    .dataframe tbody tr th {\n",
       "        vertical-align: top;\n",
       "    }\n",
       "\n",
       "    .dataframe thead th {\n",
       "        text-align: right;\n",
       "    }\n",
       "</style>\n",
       "<table border=\"1\" class=\"dataframe\">\n",
       "  <thead>\n",
       "    <tr style=\"text-align: right;\">\n",
       "      <th></th>\n",
       "      <th>Male</th>\n",
       "      <th>Female</th>\n",
       "      <th>Age</th>\n",
       "      <th>Direct_bil</th>\n",
       "      <th>ALP</th>\n",
       "      <th>Ttl_Prtn</th>\n",
       "      <th>AST/ALT</th>\n",
       "      <th>A/G</th>\n",
       "    </tr>\n",
       "  </thead>\n",
       "  <tbody>\n",
       "    <tr>\n",
       "      <th>364</th>\n",
       "      <td>1</td>\n",
       "      <td>0</td>\n",
       "      <td>0.197674</td>\n",
       "      <td>0.005102</td>\n",
       "      <td>0.058622</td>\n",
       "      <td>0.594203</td>\n",
       "      <td>0.185362</td>\n",
       "      <td>0.441176</td>\n",
       "    </tr>\n",
       "    <tr>\n",
       "      <th>329</th>\n",
       "      <td>1</td>\n",
       "      <td>0</td>\n",
       "      <td>0.197674</td>\n",
       "      <td>0.005102</td>\n",
       "      <td>0.072301</td>\n",
       "      <td>0.666667</td>\n",
       "      <td>0.175805</td>\n",
       "      <td>0.426471</td>\n",
       "    </tr>\n",
       "    <tr>\n",
       "      <th>45</th>\n",
       "      <td>1</td>\n",
       "      <td>0</td>\n",
       "      <td>0.360465</td>\n",
       "      <td>0.025510</td>\n",
       "      <td>0.103566</td>\n",
       "      <td>0.550725</td>\n",
       "      <td>0.409638</td>\n",
       "      <td>0.450980</td>\n",
       "    </tr>\n",
       "    <tr>\n",
       "      <th>371</th>\n",
       "      <td>1</td>\n",
       "      <td>0</td>\n",
       "      <td>0.337209</td>\n",
       "      <td>0.005102</td>\n",
       "      <td>0.035173</td>\n",
       "      <td>0.652174</td>\n",
       "      <td>0.099254</td>\n",
       "      <td>0.341176</td>\n",
       "    </tr>\n",
       "    <tr>\n",
       "      <th>276</th>\n",
       "      <td>1</td>\n",
       "      <td>0</td>\n",
       "      <td>0.360465</td>\n",
       "      <td>0.005102</td>\n",
       "      <td>0.062042</td>\n",
       "      <td>0.536232</td>\n",
       "      <td>0.080385</td>\n",
       "      <td>0.352941</td>\n",
       "    </tr>\n",
       "    <tr>\n",
       "      <th>...</th>\n",
       "      <td>...</td>\n",
       "      <td>...</td>\n",
       "      <td>...</td>\n",
       "      <td>...</td>\n",
       "      <td>...</td>\n",
       "      <td>...</td>\n",
       "      <td>...</td>\n",
       "      <td>...</td>\n",
       "    </tr>\n",
       "    <tr>\n",
       "      <th>576</th>\n",
       "      <td>1</td>\n",
       "      <td>0</td>\n",
       "      <td>0.325581</td>\n",
       "      <td>0.413265</td>\n",
       "      <td>0.110405</td>\n",
       "      <td>0.376812</td>\n",
       "      <td>0.145969</td>\n",
       "      <td>0.378151</td>\n",
       "    </tr>\n",
       "    <tr>\n",
       "      <th>577</th>\n",
       "      <td>1</td>\n",
       "      <td>0</td>\n",
       "      <td>0.325581</td>\n",
       "      <td>0.423469</td>\n",
       "      <td>0.062042</td>\n",
       "      <td>0.391304</td>\n",
       "      <td>0.179848</td>\n",
       "      <td>0.333333</td>\n",
       "    </tr>\n",
       "    <tr>\n",
       "      <th>579</th>\n",
       "      <td>1</td>\n",
       "      <td>0</td>\n",
       "      <td>0.418605</td>\n",
       "      <td>0.000000</td>\n",
       "      <td>0.017098</td>\n",
       "      <td>0.478261</td>\n",
       "      <td>0.090089</td>\n",
       "      <td>0.336898</td>\n",
       "    </tr>\n",
       "    <tr>\n",
       "      <th>580</th>\n",
       "      <td>1</td>\n",
       "      <td>0</td>\n",
       "      <td>0.558140</td>\n",
       "      <td>0.005102</td>\n",
       "      <td>0.088911</td>\n",
       "      <td>0.536232</td>\n",
       "      <td>0.105386</td>\n",
       "      <td>0.388235</td>\n",
       "    </tr>\n",
       "    <tr>\n",
       "      <th>581</th>\n",
       "      <td>1</td>\n",
       "      <td>0</td>\n",
       "      <td>0.313953</td>\n",
       "      <td>0.020408</td>\n",
       "      <td>0.059111</td>\n",
       "      <td>0.594203</td>\n",
       "      <td>0.114739</td>\n",
       "      <td>0.423529</td>\n",
       "    </tr>\n",
       "  </tbody>\n",
       "</table>\n",
       "<p>832 rows × 8 columns</p>\n",
       "</div>"
      ],
      "text/plain": [
       "     Male  Female       Age  Direct_bil       ALP  Ttl_Prtn   AST/ALT  \\\n",
       "364     1       0  0.197674    0.005102  0.058622  0.594203  0.185362   \n",
       "329     1       0  0.197674    0.005102  0.072301  0.666667  0.175805   \n",
       "45      1       0  0.360465    0.025510  0.103566  0.550725  0.409638   \n",
       "371     1       0  0.337209    0.005102  0.035173  0.652174  0.099254   \n",
       "276     1       0  0.360465    0.005102  0.062042  0.536232  0.080385   \n",
       "..    ...     ...       ...         ...       ...       ...       ...   \n",
       "576     1       0  0.325581    0.413265  0.110405  0.376812  0.145969   \n",
       "577     1       0  0.325581    0.423469  0.062042  0.391304  0.179848   \n",
       "579     1       0  0.418605    0.000000  0.017098  0.478261  0.090089   \n",
       "580     1       0  0.558140    0.005102  0.088911  0.536232  0.105386   \n",
       "581     1       0  0.313953    0.020408  0.059111  0.594203  0.114739   \n",
       "\n",
       "          A/G  \n",
       "364  0.441176  \n",
       "329  0.426471  \n",
       "45   0.450980  \n",
       "371  0.341176  \n",
       "276  0.352941  \n",
       "..        ...  \n",
       "576  0.378151  \n",
       "577  0.333333  \n",
       "579  0.336898  \n",
       "580  0.388235  \n",
       "581  0.423529  \n",
       "\n",
       "[832 rows x 8 columns]"
      ]
     },
     "execution_count": 79,
     "metadata": {},
     "output_type": "execute_result"
    }
   ],
   "source": [
    "x"
   ]
  },
  {
   "cell_type": "code",
   "execution_count": 80,
   "id": "913fe079",
   "metadata": {},
   "outputs": [
    {
     "data": {
      "text/plain": [
       "364    0\n",
       "329    0\n",
       "45     0\n",
       "371    0\n",
       "276    0\n",
       "      ..\n",
       "576    1\n",
       "577    1\n",
       "579    1\n",
       "580    1\n",
       "581    1\n",
       "Name: Result, Length: 832, dtype: int64"
      ]
     },
     "execution_count": 80,
     "metadata": {},
     "output_type": "execute_result"
    }
   ],
   "source": [
    "y"
   ]
  },
  {
   "cell_type": "code",
   "execution_count": 81,
   "id": "2c91550a",
   "metadata": {},
   "outputs": [],
   "source": [
    "from sklearn.model_selection import train_test_split\n",
    "x_train,x_test,y_train,y_test = train_test_split(x,y,test_size=0.25,random_state=42)"
   ]
  },
  {
   "cell_type": "code",
   "execution_count": 82,
   "id": "113344a8",
   "metadata": {},
   "outputs": [
    {
     "name": "stdout",
     "output_type": "stream",
     "text": [
      "Accuracy:  0.8894230769230769 \n",
      "Precision:  0.9313725490196079 \n",
      "Recall Score 0.8558558558558559 \n",
      "F1 Score 0.892018779342723 \n",
      "Confusion Matrix\n",
      " [[90  7]\n",
      " [16 95]]\n",
      "              precision    recall  f1-score   support\n",
      "\n",
      "           0       0.85      0.93      0.89        97\n",
      "           1       0.93      0.86      0.89       111\n",
      "\n",
      "    accuracy                           0.89       208\n",
      "   macro avg       0.89      0.89      0.89       208\n",
      "weighted avg       0.89      0.89      0.89       208\n",
      "\n"
     ]
    }
   ],
   "source": [
    "#XG Boosting\n",
    "from xgboost import XGBClassifier\n",
    "xgbc = XGBClassifier()\n",
    "xgbc.fit(x_train,y_train)\n",
    "y_pred = xgbc.predict(x_test)\n",
    "\n",
    "acc = accuracy_score(y_test,y_pred)\n",
    "pr = precision_score(y_test,y_pred)\n",
    "re = recall_score(y_test,y_pred)\n",
    "f1 = f1_score(y_test,y_pred)\n",
    "cm = confusion_matrix(y_test,y_pred)\n",
    "print('Accuracy: ',acc,'\\nPrecision: ',pr,'\\nRecall Score', re,'\\nF1 Score', f1, '\\nConfusion Matrix\\n', cm)\n",
    "print(classification_report(y_test,y_pred))\n",
    "Results['XGB with databalancing'] = [acc,pr,re,f1]"
   ]
  },
  {
   "cell_type": "markdown",
   "id": "384ccae1",
   "metadata": {},
   "source": [
    "### XGB for miority resampled data, with hyperparameter tuning"
   ]
  },
  {
   "cell_type": "code",
   "execution_count": 83,
   "id": "02674638",
   "metadata": {},
   "outputs": [
    {
     "name": "stdout",
     "output_type": "stream",
     "text": [
      "Fitting 3 folds for each of 100 candidates, totalling 300 fits\n"
     ]
    },
    {
     "data": {
      "text/plain": [
       "{'reg_lambda': 12.8,\n",
       " 'reg_alpha': 0.8,\n",
       " 'n_estimators': 50,\n",
       " 'max_depth': 5,\n",
       " 'learning_rate': 0.5,\n",
       " 'gamma': 0}"
      ]
     },
     "execution_count": 83,
     "metadata": {},
     "output_type": "execute_result"
    }
   ],
   "source": [
    "from sklearn.model_selection import RandomizedSearchCV\n",
    "\n",
    "param_grid = {'gamma': [0,0.1,0.2,0.4,0.8,1.6,3.2,6.4,12.8,25.6,51.2,102.4, 200],\n",
    "              'learning_rate': [0.01, 0.03, 0.06, 0.1, 0.15, 0.2, 0.25, 0.3, 0.4, 0.5, 0.6, 0.7],\n",
    "              'max_depth': [5,6,7,8,9,10,11,12,13,14],\n",
    "              'n_estimators': [50,65,80,100,115,130,150],\n",
    "              'reg_alpha': [0,0.1,0.2,0.4,0.8,1.6,3.2,6.4,12.8,25.6,51.2,102.4,200],\n",
    "              'reg_lambda': [0,0.1,0.2,0.4,0.8,1.6,3.2,6.4,12.8,25.6,51.2,102.4,200]}\n",
    "\n",
    "XGB=XGBClassifier(random_state=42,verbosity=0,silent=0)\n",
    "rcv= RandomizedSearchCV(estimator=XGB, scoring='f1',param_distributions=param_grid, n_iter=100, cv=3, \n",
    "                               verbose=2, random_state=42, n_jobs=-1)\n",
    "rcv.fit(x_train, y_train)\n",
    "cv_best_params = rcv.best_params_\n",
    "cv_best_params"
   ]
  },
  {
   "cell_type": "code",
   "execution_count": 84,
   "id": "2ec823dc",
   "metadata": {},
   "outputs": [
    {
     "name": "stdout",
     "output_type": "stream",
     "text": [
      "Accuracy:  0.8605769230769231 \n",
      "Precision:  0.9270833333333334 \n",
      "Recall Score 0.8018018018018018 \n",
      "F1 Score 0.8599033816425121 \n",
      "Confusion Matrix\n",
      " [[90  7]\n",
      " [22 89]]\n",
      "              precision    recall  f1-score   support\n",
      "\n",
      "           0       0.80      0.93      0.86        97\n",
      "           1       0.93      0.80      0.86       111\n",
      "\n",
      "    accuracy                           0.86       208\n",
      "   macro avg       0.87      0.86      0.86       208\n",
      "weighted avg       0.87      0.86      0.86       208\n",
      "\n"
     ]
    }
   ],
   "source": [
    "xgbc1 = XGBClassifier(gamma=0,learning_rate=0.5,max_depth=5,n_estimators=50,reg_alpha=0.8,reg_lambda=12.8)\n",
    "xgbc1.fit(x_train,y_train)\n",
    "y_pred = xgbc1.predict(x_test)\n",
    "\n",
    "acc = accuracy_score(y_test,y_pred)\n",
    "pr = precision_score(y_test,y_pred)\n",
    "re = recall_score(y_test,y_pred)\n",
    "f1 = f1_score(y_test,y_pred)\n",
    "cm = confusion_matrix(y_test,y_pred)\n",
    "print('Accuracy: ',acc,'\\nPrecision: ',pr,'\\nRecall Score', re,'\\nF1 Score', f1, '\\nConfusion Matrix\\n', cm)\n",
    "print(classification_report(y_test,y_pred))\n",
    "Results['XGB with hyptuning and databalancing'] = [acc,pr,re,f1]"
   ]
  },
  {
   "cell_type": "markdown",
   "id": "13c7ce90",
   "metadata": {},
   "source": [
    "## The best results have been with Log Regression, SVM and XGB. "
   ]
  },
  {
   "cell_type": "code",
   "execution_count": 85,
   "id": "2a8a6521",
   "metadata": {},
   "outputs": [
    {
     "data": {
      "text/html": [
       "<div>\n",
       "<style scoped>\n",
       "    .dataframe tbody tr th:only-of-type {\n",
       "        vertical-align: middle;\n",
       "    }\n",
       "\n",
       "    .dataframe tbody tr th {\n",
       "        vertical-align: top;\n",
       "    }\n",
       "\n",
       "    .dataframe thead th {\n",
       "        text-align: right;\n",
       "    }\n",
       "</style>\n",
       "<table border=\"1\" class=\"dataframe\">\n",
       "  <thead>\n",
       "    <tr style=\"text-align: right;\">\n",
       "      <th></th>\n",
       "      <th>LogReg w/o databalancing</th>\n",
       "      <th>KNN w/o databalancing</th>\n",
       "      <th>NB w/o databalancing</th>\n",
       "      <th>DT w/o databalancing</th>\n",
       "      <th>RF w/o databalancing</th>\n",
       "      <th>SVM w/o databalancing</th>\n",
       "      <th>KNN Bagging w/o databalancing</th>\n",
       "      <th>RF Bagging w/o databalancing</th>\n",
       "      <th>GB w/o databalancing</th>\n",
       "      <th>LogReg with databalancing</th>\n",
       "      <th>KNN with databalancing</th>\n",
       "      <th>RF with databalancing</th>\n",
       "      <th>KNN Bagg with databalancing</th>\n",
       "      <th>GB with databalancing</th>\n",
       "      <th>XGB with databalancing</th>\n",
       "      <th>XGB with hyptuning and databalancing</th>\n",
       "    </tr>\n",
       "  </thead>\n",
       "  <tbody>\n",
       "    <tr>\n",
       "      <th>Accuracy</th>\n",
       "      <td>0.746575</td>\n",
       "      <td>0.678082</td>\n",
       "      <td>0.746575</td>\n",
       "      <td>0.602740</td>\n",
       "      <td>0.712329</td>\n",
       "      <td>0.746575</td>\n",
       "      <td>0.678082</td>\n",
       "      <td>0.767123</td>\n",
       "      <td>0.712329</td>\n",
       "      <td>0.682692</td>\n",
       "      <td>0.692308</td>\n",
       "      <td>0.865385</td>\n",
       "      <td>0.706731</td>\n",
       "      <td>0.846154</td>\n",
       "      <td>0.889423</td>\n",
       "      <td>0.860577</td>\n",
       "    </tr>\n",
       "    <tr>\n",
       "      <th>Precision</th>\n",
       "      <td>0.750000</td>\n",
       "      <td>0.798077</td>\n",
       "      <td>0.746575</td>\n",
       "      <td>0.768421</td>\n",
       "      <td>0.781513</td>\n",
       "      <td>0.746575</td>\n",
       "      <td>0.798077</td>\n",
       "      <td>0.790698</td>\n",
       "      <td>0.801802</td>\n",
       "      <td>0.792208</td>\n",
       "      <td>0.752688</td>\n",
       "      <td>0.910891</td>\n",
       "      <td>0.797619</td>\n",
       "      <td>0.915789</td>\n",
       "      <td>0.931373</td>\n",
       "      <td>0.927083</td>\n",
       "    </tr>\n",
       "    <tr>\n",
       "      <th>Recall</th>\n",
       "      <td>0.990826</td>\n",
       "      <td>0.761468</td>\n",
       "      <td>1.000000</td>\n",
       "      <td>0.669725</td>\n",
       "      <td>0.853211</td>\n",
       "      <td>1.000000</td>\n",
       "      <td>0.761468</td>\n",
       "      <td>0.935780</td>\n",
       "      <td>0.816514</td>\n",
       "      <td>0.549550</td>\n",
       "      <td>0.630631</td>\n",
       "      <td>0.828829</td>\n",
       "      <td>0.603604</td>\n",
       "      <td>0.783784</td>\n",
       "      <td>0.855856</td>\n",
       "      <td>0.801802</td>\n",
       "    </tr>\n",
       "    <tr>\n",
       "      <th>F1</th>\n",
       "      <td>0.853755</td>\n",
       "      <td>0.779343</td>\n",
       "      <td>0.854902</td>\n",
       "      <td>0.715686</td>\n",
       "      <td>0.815789</td>\n",
       "      <td>0.854902</td>\n",
       "      <td>0.779343</td>\n",
       "      <td>0.857143</td>\n",
       "      <td>0.809091</td>\n",
       "      <td>0.648936</td>\n",
       "      <td>0.686275</td>\n",
       "      <td>0.867925</td>\n",
       "      <td>0.687179</td>\n",
       "      <td>0.844660</td>\n",
       "      <td>0.892019</td>\n",
       "      <td>0.859903</td>\n",
       "    </tr>\n",
       "  </tbody>\n",
       "</table>\n",
       "</div>"
      ],
      "text/plain": [
       "           LogReg w/o databalancing  KNN w/o databalancing  \\\n",
       "Accuracy                   0.746575               0.678082   \n",
       "Precision                  0.750000               0.798077   \n",
       "Recall                     0.990826               0.761468   \n",
       "F1                         0.853755               0.779343   \n",
       "\n",
       "           NB w/o databalancing  DT w/o databalancing  RF w/o databalancing  \\\n",
       "Accuracy               0.746575              0.602740              0.712329   \n",
       "Precision              0.746575              0.768421              0.781513   \n",
       "Recall                 1.000000              0.669725              0.853211   \n",
       "F1                     0.854902              0.715686              0.815789   \n",
       "\n",
       "           SVM w/o databalancing  KNN Bagging w/o databalancing  \\\n",
       "Accuracy                0.746575                       0.678082   \n",
       "Precision               0.746575                       0.798077   \n",
       "Recall                  1.000000                       0.761468   \n",
       "F1                      0.854902                       0.779343   \n",
       "\n",
       "           RF Bagging w/o databalancing  GB w/o databalancing  \\\n",
       "Accuracy                       0.767123              0.712329   \n",
       "Precision                      0.790698              0.801802   \n",
       "Recall                         0.935780              0.816514   \n",
       "F1                             0.857143              0.809091   \n",
       "\n",
       "           LogReg with databalancing  KNN with databalancing  \\\n",
       "Accuracy                    0.682692                0.692308   \n",
       "Precision                   0.792208                0.752688   \n",
       "Recall                      0.549550                0.630631   \n",
       "F1                          0.648936                0.686275   \n",
       "\n",
       "           RF with databalancing  KNN Bagg with databalancing  \\\n",
       "Accuracy                0.865385                     0.706731   \n",
       "Precision               0.910891                     0.797619   \n",
       "Recall                  0.828829                     0.603604   \n",
       "F1                      0.867925                     0.687179   \n",
       "\n",
       "           GB with databalancing  XGB with databalancing  \\\n",
       "Accuracy                0.846154                0.889423   \n",
       "Precision               0.915789                0.931373   \n",
       "Recall                  0.783784                0.855856   \n",
       "F1                      0.844660                0.892019   \n",
       "\n",
       "           XGB with hyptuning and databalancing  \n",
       "Accuracy                               0.860577  \n",
       "Precision                              0.927083  \n",
       "Recall                                 0.801802  \n",
       "F1                                     0.859903  "
      ]
     },
     "execution_count": 85,
     "metadata": {},
     "output_type": "execute_result"
    }
   ],
   "source": [
    "Results"
   ]
  },
  {
   "cell_type": "markdown",
   "id": "47ae2f37",
   "metadata": {},
   "source": [
    "## Conclusions\n",
    " - We had data of various hormones, protein, bilirubin etc that are related to liver functioning and the conclusion of whether the patient is finally having a liver disease or not.\n",
    " - On this basis, we understand that there can be a model developed which idenitifies if the patient has liver disease, based on the values of bilirubin, protein and hormones.\n",
    " - In this regard, all the features given are analysed in terms of liver diseases and we figured out that certain features are more relevant than others (with them being highly correlated among themselves and hence redundant), certian features may not directly conclude anything, but alternate forms of them might help more. Hence we did some manual feature engineering based on some google study.\n",
    " - Since the target variable is predicting the disease or not, it happens to be a binary classification problem.\n",
    " - A lot of classification algorithms viz., Logarithmic Regresssion, KNN Classifier, Naive Bayes, Decision Tree Classifier, Random Forest Classifier, SVM classifier, Random Forest classifier, Bagging with KNN, Gradient Boosting Classifier, XGB Classifier.\n",
    " - Since the data is mildly imbalanced, as with the case of medical diagnosis data, the results were inaccurate as we wanted to check if mild imbalance affects the model.\n",
    " - An attempt at balancing the data by Minority resampling it, helped in making the results better of all the algorithms that were applied earlier. We tried all algorithms on earlier imblanced and later balanced data.\n",
    " - As a conclusion, we could say that XGBoosting yeilded best results with f1score being around 89%, while the Recall score which is more important in medical diagnoses, is 86%. \n",
    " - Taking Recall as criterion, XGB with data balancing had only 86% Recall score, Random Forest classifier with balanced data had a good recall score of 83%. \n",
    " - An important point to note is that, before we attempted data balancing, SVM (without data balancing) yielded a wonderful recall score of 100%, with f1 score of 85%, RF Classifier with bagging yeilded 93% Recall score(86% f1 score), and RF basic Classifier yeilded 85% Recall score. Even the basic Logarithmic regression also gave 99% Recall score (f1 being 85%)\n",
    " ### With this we conclude that SVM and Logarithmic Regression have been great with Recall score (~100%) and f1 score which is an important criterion in medical diagnoses followed by RF Bagging Classifier and Basic RF Classifier, but if we need accuracy as a criterion, XGBoosting Classifier yeilded better results. "
   ]
  },
  {
   "cell_type": "code",
   "execution_count": null,
   "id": "033fdd31",
   "metadata": {},
   "outputs": [],
   "source": []
  }
 ],
 "metadata": {
  "kernelspec": {
   "display_name": "Python 3 (ipykernel)",
   "language": "python",
   "name": "python3"
  },
  "language_info": {
   "codemirror_mode": {
    "name": "ipython",
    "version": 3
   },
   "file_extension": ".py",
   "mimetype": "text/x-python",
   "name": "python",
   "nbconvert_exporter": "python",
   "pygments_lexer": "ipython3",
   "version": "3.9.13"
  }
 },
 "nbformat": 4,
 "nbformat_minor": 5
}
